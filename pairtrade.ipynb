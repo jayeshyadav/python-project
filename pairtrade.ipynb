{
 "cells": [
  {
   "cell_type": "code",
   "execution_count": null,
   "metadata": {},
   "outputs": [],
   "source": [
    "import pandas as pd\n",
    "import numpy as np\n",
    "from alpha_vantage.timeseries import TimeSeries\n",
    "import Time"
   ]
  },
  {
   "cell_type": "code",
   "execution_count": null,
   "metadata": {},
   "outputs": [],
   "source": []
  },
  {
   "cell_type": "code",
   "execution_count": null,
   "metadata": {},
   "outputs": [],
   "source": []
  },
  {
   "cell_type": "code",
   "execution_count": 3,
   "metadata": {},
   "outputs": [],
   "source": [
    "nifty=pd.read_csv('nifty50.csv')\n",
    "bnifty=pd.read_csv('banknifty.csv')"
   ]
  },
  {
   "cell_type": "code",
   "execution_count": 4,
   "metadata": {},
   "outputs": [],
   "source": [
    "nifty['daily_return']=nifty['Close']-nifty['Close'].shift(1)-1\n",
    "nifty['pct_change']=nifty['Close'].pct_change(1)"
   ]
  },
  {
   "cell_type": "code",
   "execution_count": 5,
   "metadata": {},
   "outputs": [],
   "source": [
    "bnifty['daily_return']=bnifty['Close']-bnifty['Close'].shift(1)-1\n",
    "bnifty['pct_change']=bnifty['Close'].pct_change(1)"
   ]
  },
  {
   "cell_type": "code",
   "execution_count": 6,
   "metadata": {},
   "outputs": [
    {
     "data": {
      "text/html": [
       "<div>\n",
       "<style scoped>\n",
       "    .dataframe tbody tr th:only-of-type {\n",
       "        vertical-align: middle;\n",
       "    }\n",
       "\n",
       "    .dataframe tbody tr th {\n",
       "        vertical-align: top;\n",
       "    }\n",
       "\n",
       "    .dataframe thead th {\n",
       "        text-align: right;\n",
       "    }\n",
       "</style>\n",
       "<table border=\"1\" class=\"dataframe\">\n",
       "  <thead>\n",
       "    <tr style=\"text-align: right;\">\n",
       "      <th></th>\n",
       "      <th>Date</th>\n",
       "      <th>Open</th>\n",
       "      <th>High</th>\n",
       "      <th>Low</th>\n",
       "      <th>Close</th>\n",
       "      <th>Shares Traded</th>\n",
       "      <th>Turnover (Rs. Cr)</th>\n",
       "      <th>daily_return</th>\n",
       "      <th>pct_change</th>\n",
       "    </tr>\n",
       "  </thead>\n",
       "  <tbody>\n",
       "    <tr>\n",
       "      <td>0</td>\n",
       "      <td>03-Sep-2019</td>\n",
       "      <td>10960.95</td>\n",
       "      <td>10967.50</td>\n",
       "      <td>10772.70</td>\n",
       "      <td>10797.90</td>\n",
       "      <td>483038985</td>\n",
       "      <td>16595.60</td>\n",
       "      <td>NaN</td>\n",
       "      <td>NaN</td>\n",
       "    </tr>\n",
       "    <tr>\n",
       "      <td>1</td>\n",
       "      <td>04-Sep-2019</td>\n",
       "      <td>10790.40</td>\n",
       "      <td>10858.75</td>\n",
       "      <td>10746.35</td>\n",
       "      <td>10844.65</td>\n",
       "      <td>508784352</td>\n",
       "      <td>19195.10</td>\n",
       "      <td>45.75</td>\n",
       "      <td>0.004330</td>\n",
       "    </tr>\n",
       "    <tr>\n",
       "      <td>2</td>\n",
       "      <td>05-Sep-2019</td>\n",
       "      <td>10860.95</td>\n",
       "      <td>10920.10</td>\n",
       "      <td>10816.00</td>\n",
       "      <td>10847.90</td>\n",
       "      <td>595699267</td>\n",
       "      <td>18279.88</td>\n",
       "      <td>2.25</td>\n",
       "      <td>0.000300</td>\n",
       "    </tr>\n",
       "    <tr>\n",
       "      <td>3</td>\n",
       "      <td>06-Sep-2019</td>\n",
       "      <td>10883.80</td>\n",
       "      <td>10957.05</td>\n",
       "      <td>10867.45</td>\n",
       "      <td>10946.20</td>\n",
       "      <td>497214445</td>\n",
       "      <td>18167.78</td>\n",
       "      <td>97.30</td>\n",
       "      <td>0.009062</td>\n",
       "    </tr>\n",
       "    <tr>\n",
       "      <td>4</td>\n",
       "      <td>09-Sep-2019</td>\n",
       "      <td>10936.70</td>\n",
       "      <td>11028.85</td>\n",
       "      <td>10889.80</td>\n",
       "      <td>11003.05</td>\n",
       "      <td>412471067</td>\n",
       "      <td>14762.07</td>\n",
       "      <td>55.85</td>\n",
       "      <td>0.005194</td>\n",
       "    </tr>\n",
       "  </tbody>\n",
       "</table>\n",
       "</div>"
      ],
      "text/plain": [
       "          Date      Open      High       Low     Close  Shares Traded  \\\n",
       "0  03-Sep-2019  10960.95  10967.50  10772.70  10797.90      483038985   \n",
       "1  04-Sep-2019  10790.40  10858.75  10746.35  10844.65      508784352   \n",
       "2  05-Sep-2019  10860.95  10920.10  10816.00  10847.90      595699267   \n",
       "3  06-Sep-2019  10883.80  10957.05  10867.45  10946.20      497214445   \n",
       "4  09-Sep-2019  10936.70  11028.85  10889.80  11003.05      412471067   \n",
       "\n",
       "   Turnover (Rs. Cr)  daily_return  pct_change  \n",
       "0           16595.60           NaN         NaN  \n",
       "1           19195.10         45.75    0.004330  \n",
       "2           18279.88          2.25    0.000300  \n",
       "3           18167.78         97.30    0.009062  \n",
       "4           14762.07         55.85    0.005194  "
      ]
     },
     "execution_count": 6,
     "metadata": {},
     "output_type": "execute_result"
    }
   ],
   "source": [
    "nifty.head()"
   ]
  },
  {
   "cell_type": "code",
   "execution_count": 7,
   "metadata": {},
   "outputs": [],
   "source": [
    "nifty.drop(['Open','High','Low','Shares Traded','Turnover (Rs. Cr)'],axis=1,inplace=True)"
   ]
  },
  {
   "cell_type": "code",
   "execution_count": 8,
   "metadata": {},
   "outputs": [],
   "source": [
    "bnifty.drop(['Open','High','Low','Shares Traded','Turnover (Rs. Cr)'],axis=1,inplace=True)"
   ]
  },
  {
   "cell_type": "code",
   "execution_count": 9,
   "metadata": {},
   "outputs": [],
   "source": [
    "nifty.columns=['date','nclose','ndaily_return','npct_change']"
   ]
  },
  {
   "cell_type": "code",
   "execution_count": 10,
   "metadata": {},
   "outputs": [],
   "source": [
    "bnifty.columns=['date','bclose','bdaily_return','bpct_change']"
   ]
  },
  {
   "cell_type": "code",
   "execution_count": 11,
   "metadata": {},
   "outputs": [
    {
     "data": {
      "text/html": [
       "<div>\n",
       "<style scoped>\n",
       "    .dataframe tbody tr th:only-of-type {\n",
       "        vertical-align: middle;\n",
       "    }\n",
       "\n",
       "    .dataframe tbody tr th {\n",
       "        vertical-align: top;\n",
       "    }\n",
       "\n",
       "    .dataframe thead th {\n",
       "        text-align: right;\n",
       "    }\n",
       "</style>\n",
       "<table border=\"1\" class=\"dataframe\">\n",
       "  <thead>\n",
       "    <tr style=\"text-align: right;\">\n",
       "      <th></th>\n",
       "      <th>date</th>\n",
       "      <th>bclose</th>\n",
       "      <th>bdaily_return</th>\n",
       "      <th>bpct_change</th>\n",
       "    </tr>\n",
       "  </thead>\n",
       "  <tbody>\n",
       "    <tr>\n",
       "      <td>0</td>\n",
       "      <td>03-Sep-2019</td>\n",
       "      <td>26824.15</td>\n",
       "      <td>NaN</td>\n",
       "      <td>NaN</td>\n",
       "    </tr>\n",
       "    <tr>\n",
       "      <td>1</td>\n",
       "      <td>04-Sep-2019</td>\n",
       "      <td>27123.85</td>\n",
       "      <td>298.7</td>\n",
       "      <td>0.011173</td>\n",
       "    </tr>\n",
       "  </tbody>\n",
       "</table>\n",
       "</div>"
      ],
      "text/plain": [
       "          date    bclose  bdaily_return  bpct_change\n",
       "0  03-Sep-2019  26824.15            NaN          NaN\n",
       "1  04-Sep-2019  27123.85          298.7     0.011173"
      ]
     },
     "execution_count": 11,
     "metadata": {},
     "output_type": "execute_result"
    }
   ],
   "source": [
    "bnifty.head(2)"
   ]
  },
  {
   "cell_type": "code",
   "execution_count": 12,
   "metadata": {},
   "outputs": [],
   "source": [
    "spread1=pd.concat([nifty,bnifty],axis=1,join='inner')"
   ]
  },
  {
   "cell_type": "code",
   "execution_count": 13,
   "metadata": {},
   "outputs": [
    {
     "data": {
      "text/html": [
       "<div>\n",
       "<style scoped>\n",
       "    .dataframe tbody tr th:only-of-type {\n",
       "        vertical-align: middle;\n",
       "    }\n",
       "\n",
       "    .dataframe tbody tr th {\n",
       "        vertical-align: top;\n",
       "    }\n",
       "\n",
       "    .dataframe thead th {\n",
       "        text-align: right;\n",
       "    }\n",
       "</style>\n",
       "<table border=\"1\" class=\"dataframe\">\n",
       "  <thead>\n",
       "    <tr style=\"text-align: right;\">\n",
       "      <th></th>\n",
       "      <th>date</th>\n",
       "      <th>nclose</th>\n",
       "      <th>ndaily_return</th>\n",
       "      <th>npct_change</th>\n",
       "      <th>date</th>\n",
       "      <th>bclose</th>\n",
       "      <th>bdaily_return</th>\n",
       "      <th>bpct_change</th>\n",
       "    </tr>\n",
       "  </thead>\n",
       "  <tbody>\n",
       "    <tr>\n",
       "      <td>0</td>\n",
       "      <td>03-Sep-2019</td>\n",
       "      <td>10797.90</td>\n",
       "      <td>NaN</td>\n",
       "      <td>NaN</td>\n",
       "      <td>03-Sep-2019</td>\n",
       "      <td>26824.15</td>\n",
       "      <td>NaN</td>\n",
       "      <td>NaN</td>\n",
       "    </tr>\n",
       "    <tr>\n",
       "      <td>1</td>\n",
       "      <td>04-Sep-2019</td>\n",
       "      <td>10844.65</td>\n",
       "      <td>45.75</td>\n",
       "      <td>0.00433</td>\n",
       "      <td>04-Sep-2019</td>\n",
       "      <td>27123.85</td>\n",
       "      <td>298.7</td>\n",
       "      <td>0.011173</td>\n",
       "    </tr>\n",
       "  </tbody>\n",
       "</table>\n",
       "</div>"
      ],
      "text/plain": [
       "          date    nclose  ndaily_return  npct_change         date    bclose  \\\n",
       "0  03-Sep-2019  10797.90            NaN          NaN  03-Sep-2019  26824.15   \n",
       "1  04-Sep-2019  10844.65          45.75      0.00433  04-Sep-2019  27123.85   \n",
       "\n",
       "   bdaily_return  bpct_change  \n",
       "0            NaN          NaN  \n",
       "1          298.7     0.011173  "
      ]
     },
     "execution_count": 13,
     "metadata": {},
     "output_type": "execute_result"
    }
   ],
   "source": [
    "spread1.head(2)"
   ]
  },
  {
   "cell_type": "code",
   "execution_count": 14,
   "metadata": {},
   "outputs": [],
   "source": [
    "spread=spread1.iloc[:,1:]"
   ]
  },
  {
   "cell_type": "code",
   "execution_count": 15,
   "metadata": {},
   "outputs": [
    {
     "data": {
      "text/html": [
       "<div>\n",
       "<style scoped>\n",
       "    .dataframe tbody tr th:only-of-type {\n",
       "        vertical-align: middle;\n",
       "    }\n",
       "\n",
       "    .dataframe tbody tr th {\n",
       "        vertical-align: top;\n",
       "    }\n",
       "\n",
       "    .dataframe thead th {\n",
       "        text-align: right;\n",
       "    }\n",
       "</style>\n",
       "<table border=\"1\" class=\"dataframe\">\n",
       "  <thead>\n",
       "    <tr style=\"text-align: right;\">\n",
       "      <th></th>\n",
       "      <th>nclose</th>\n",
       "      <th>ndaily_return</th>\n",
       "      <th>npct_change</th>\n",
       "      <th>date</th>\n",
       "      <th>bclose</th>\n",
       "      <th>bdaily_return</th>\n",
       "      <th>bpct_change</th>\n",
       "    </tr>\n",
       "  </thead>\n",
       "  <tbody>\n",
       "    <tr>\n",
       "      <td>0</td>\n",
       "      <td>10797.90</td>\n",
       "      <td>NaN</td>\n",
       "      <td>NaN</td>\n",
       "      <td>03-Sep-2019</td>\n",
       "      <td>26824.15</td>\n",
       "      <td>NaN</td>\n",
       "      <td>NaN</td>\n",
       "    </tr>\n",
       "    <tr>\n",
       "      <td>1</td>\n",
       "      <td>10844.65</td>\n",
       "      <td>45.75</td>\n",
       "      <td>0.00433</td>\n",
       "      <td>04-Sep-2019</td>\n",
       "      <td>27123.85</td>\n",
       "      <td>298.7</td>\n",
       "      <td>0.011173</td>\n",
       "    </tr>\n",
       "  </tbody>\n",
       "</table>\n",
       "</div>"
      ],
      "text/plain": [
       "     nclose  ndaily_return  npct_change         date    bclose  bdaily_return  \\\n",
       "0  10797.90            NaN          NaN  03-Sep-2019  26824.15            NaN   \n",
       "1  10844.65          45.75      0.00433  04-Sep-2019  27123.85          298.7   \n",
       "\n",
       "   bpct_change  \n",
       "0          NaN  \n",
       "1     0.011173  "
      ]
     },
     "execution_count": 15,
     "metadata": {},
     "output_type": "execute_result"
    }
   ],
   "source": [
    "spread.head(2)"
   ]
  },
  {
   "cell_type": "code",
   "execution_count": 16,
   "metadata": {},
   "outputs": [],
   "source": [
    "spread['spread'] = spread['ndaily_return']-spread['bdaily_return']"
   ]
  },
  {
   "cell_type": "code",
   "execution_count": 17,
   "metadata": {},
   "outputs": [
    {
     "data": {
      "text/html": [
       "<div>\n",
       "<style scoped>\n",
       "    .dataframe tbody tr th:only-of-type {\n",
       "        vertical-align: middle;\n",
       "    }\n",
       "\n",
       "    .dataframe tbody tr th {\n",
       "        vertical-align: top;\n",
       "    }\n",
       "\n",
       "    .dataframe thead th {\n",
       "        text-align: right;\n",
       "    }\n",
       "</style>\n",
       "<table border=\"1\" class=\"dataframe\">\n",
       "  <thead>\n",
       "    <tr style=\"text-align: right;\">\n",
       "      <th></th>\n",
       "      <th>nclose</th>\n",
       "      <th>ndaily_return</th>\n",
       "      <th>npct_change</th>\n",
       "      <th>date</th>\n",
       "      <th>bclose</th>\n",
       "      <th>bdaily_return</th>\n",
       "      <th>bpct_change</th>\n",
       "      <th>spread</th>\n",
       "    </tr>\n",
       "  </thead>\n",
       "  <tbody>\n",
       "    <tr>\n",
       "      <td>0</td>\n",
       "      <td>10797.90</td>\n",
       "      <td>NaN</td>\n",
       "      <td>NaN</td>\n",
       "      <td>03-Sep-2019</td>\n",
       "      <td>26824.15</td>\n",
       "      <td>NaN</td>\n",
       "      <td>NaN</td>\n",
       "      <td>NaN</td>\n",
       "    </tr>\n",
       "    <tr>\n",
       "      <td>1</td>\n",
       "      <td>10844.65</td>\n",
       "      <td>45.75</td>\n",
       "      <td>0.004330</td>\n",
       "      <td>04-Sep-2019</td>\n",
       "      <td>27123.85</td>\n",
       "      <td>298.70</td>\n",
       "      <td>0.011173</td>\n",
       "      <td>-252.95</td>\n",
       "    </tr>\n",
       "    <tr>\n",
       "      <td>2</td>\n",
       "      <td>10847.90</td>\n",
       "      <td>2.25</td>\n",
       "      <td>0.000300</td>\n",
       "      <td>05-Sep-2019</td>\n",
       "      <td>26919.70</td>\n",
       "      <td>-205.15</td>\n",
       "      <td>-0.007527</td>\n",
       "      <td>207.40</td>\n",
       "    </tr>\n",
       "    <tr>\n",
       "      <td>3</td>\n",
       "      <td>10946.20</td>\n",
       "      <td>97.30</td>\n",
       "      <td>0.009062</td>\n",
       "      <td>06-Sep-2019</td>\n",
       "      <td>27247.90</td>\n",
       "      <td>327.20</td>\n",
       "      <td>0.012192</td>\n",
       "      <td>-229.90</td>\n",
       "    </tr>\n",
       "    <tr>\n",
       "      <td>4</td>\n",
       "      <td>11003.05</td>\n",
       "      <td>55.85</td>\n",
       "      <td>0.005194</td>\n",
       "      <td>09-Sep-2019</td>\n",
       "      <td>27504.65</td>\n",
       "      <td>255.75</td>\n",
       "      <td>0.009423</td>\n",
       "      <td>-199.90</td>\n",
       "    </tr>\n",
       "  </tbody>\n",
       "</table>\n",
       "</div>"
      ],
      "text/plain": [
       "     nclose  ndaily_return  npct_change         date    bclose  bdaily_return  \\\n",
       "0  10797.90            NaN          NaN  03-Sep-2019  26824.15            NaN   \n",
       "1  10844.65          45.75     0.004330  04-Sep-2019  27123.85         298.70   \n",
       "2  10847.90           2.25     0.000300  05-Sep-2019  26919.70        -205.15   \n",
       "3  10946.20          97.30     0.009062  06-Sep-2019  27247.90         327.20   \n",
       "4  11003.05          55.85     0.005194  09-Sep-2019  27504.65         255.75   \n",
       "\n",
       "   bpct_change  spread  \n",
       "0          NaN     NaN  \n",
       "1     0.011173 -252.95  \n",
       "2    -0.007527  207.40  \n",
       "3     0.012192 -229.90  \n",
       "4     0.009423 -199.90  "
      ]
     },
     "execution_count": 17,
     "metadata": {},
     "output_type": "execute_result"
    }
   ],
   "source": [
    "spread.head()"
   ]
  },
  {
   "cell_type": "code",
   "execution_count": 18,
   "metadata": {},
   "outputs": [],
   "source": [
    "import matplotlib.pyplot as plt"
   ]
  },
  {
   "cell_type": "code",
   "execution_count": 19,
   "metadata": {},
   "outputs": [],
   "source": [
    "y=spread['spread']\n",
    "x=spread['date']"
   ]
  },
  {
   "cell_type": "code",
   "execution_count": 20,
   "metadata": {},
   "outputs": [
    {
     "data": {
      "text/plain": [
       "count     234.000000\n",
       "mean       21.924573\n",
       "std       433.648042\n",
       "min     -1654.500000\n",
       "25%      -214.825000\n",
       "50%       -18.050000\n",
       "75%       228.425000\n",
       "max      2264.750000\n",
       "Name: spread, dtype: float64"
      ]
     },
     "execution_count": 20,
     "metadata": {},
     "output_type": "execute_result"
    }
   ],
   "source": [
    "spread['spread'].describe()"
   ]
  },
  {
   "cell_type": "code",
   "execution_count": 21,
   "metadata": {},
   "outputs": [],
   "source": [
    "m=spread['spread'].mean()\n",
    "std=spread['spread'].std()"
   ]
  },
  {
   "cell_type": "code",
   "execution_count": 22,
   "metadata": {},
   "outputs": [
    {
     "name": "stdout",
     "output_type": "stream",
     "text": [
      "s1 455.5726149327088 s2 889.220657215845 s3 1322.868699498981\n",
      "ns1 -411.72346963356347 ns2 -845.3715119166995 ns3 -1279.0195541998357\n"
     ]
    }
   ],
   "source": [
    "s1=m+std\n",
    "s2=m+(2*std)\n",
    "s3=m+(3*std)\n",
    "print('s1',s1,'s2',s2,'s3',s3)\n",
    "ns1=m-std\n",
    "ns2=m-(2*std)\n",
    "ns3=m-(3*std)\n",
    "print('ns1',ns1,'ns2',ns2,'ns3',ns3)"
   ]
  },
  {
   "cell_type": "code",
   "execution_count": 23,
   "metadata": {},
   "outputs": [
    {
     "data": {
      "text/plain": [
       "-18.050000000002"
      ]
     },
     "execution_count": 23,
     "metadata": {},
     "output_type": "execute_result"
    }
   ],
   "source": [
    "spread['spread'].median()"
   ]
  },
  {
   "cell_type": "code",
   "execution_count": 30,
   "metadata": {},
   "outputs": [],
   "source": [
    "spread['5min_ema']=y.rolling(window=5).mean()\n",
    "spread['12min_ema']=y.rolling(window=12).mean()"
   ]
  },
  {
   "cell_type": "code",
   "execution_count": 24,
   "metadata": {},
   "outputs": [
    {
     "data": {
      "image/png": "[encoded data removed]",
      "text/plain": [
       "<Figure size 1440x720 with 1 Axes>"
      ]
     },
     "metadata": {
      "needs_background": "light"
     },
     "output_type": "display_data"
    }
   ],
   "source": [
    "plt.figure(figsize=(20,10))\n",
    "plt.plot(x,y)\n",
    "plt.axhline(m,color='r',linestyle='-')\n",
    "plt.axhline(s1,color='r',linestyle='-',label='s1')\n",
    "plt.axhline(s2,color='b',linestyle='-',label='s2')\n",
    "plt.axhline(s3,color='g',linestyle='-',label='s3')\n",
    "plt.axhline(ns1,color='r',linestyle='-',label='ns1')\n",
    "plt.axhline(ns2,color='b',linestyle='-',label='ns2')\n",
    "plt.axhline(ns3,color='g',linestyle='-',label='ns3')\n",
    "plt.xlabel('date')\n",
    "plt.ylabel('spread')\n",
    "plt.show()"
   ]
  },
  {
   "cell_type": "code",
   "execution_count": null,
   "metadata": {},
   "outputs": [],
   "source": [
    "if y>s2:\n",
    "    print('trade')"
   ]
  },
  {
   "cell_type": "code",
   "execution_count": null,
   "metadata": {},
   "outputs": [],
   "source": []
  }
 ],
 "metadata": {
  "kernelspec": {
   "display_name": "Python 3",
   "language": "python",
   "name": "python3"
  },
  "language_info": {
   "codemirror_mode": {
    "name": "ipython",
    "version": 3
   },
   "file_extension": ".py",
   "mimetype": "text/x-python",
   "name": "python",
   "nbconvert_exporter": "python",
   "pygments_lexer": "ipython3",
   "version": "3.7.4"
  }
 },
 "nbformat": 4,
 "nbformat_minor": 2
}
