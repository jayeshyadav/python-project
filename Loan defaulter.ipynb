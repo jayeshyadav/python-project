{
 "cells": [
  {
   "cell_type": "code",
   "execution_count": 1,
   "metadata": {},
   "outputs": [],
   "source": [
    "import numpy as np\n",
    "import pandas as pd\n",
    "import matplotlib.pyplot as plt\n",
    "import seaborn as sns \n",
    "from sklearn.model_selection import train_test_split\n",
    "from sklearn.linear_model import LogisticRegression\n",
    "from sklearn import metrics\n",
    "%matplotlib inline\n",
    "import warnings\n",
    "warnings.filterwarnings('ignore')"
   ]
  },
  {
   "cell_type": "code",
   "execution_count": 2,
   "metadata": {},
   "outputs": [
    {
     "data": {
      "text/html": [
       "<div>\n",
       "<style scoped>\n",
       "    .dataframe tbody tr th:only-of-type {\n",
       "        vertical-align: middle;\n",
       "    }\n",
       "\n",
       "    .dataframe tbody tr th {\n",
       "        vertical-align: top;\n",
       "    }\n",
       "\n",
       "    .dataframe thead th {\n",
       "        text-align: right;\n",
       "    }\n",
       "</style>\n",
       "<table border=\"1\" class=\"dataframe\">\n",
       "  <thead>\n",
       "    <tr style=\"text-align: right;\">\n",
       "      <th></th>\n",
       "      <th>customer.id</th>\n",
       "      <th>credit.policy</th>\n",
       "      <th>purpose</th>\n",
       "      <th>int.rate</th>\n",
       "      <th>installment</th>\n",
       "      <th>log.annual.inc</th>\n",
       "      <th>dti</th>\n",
       "      <th>fico</th>\n",
       "      <th>days.with.cr.line</th>\n",
       "      <th>revol.bal</th>\n",
       "      <th>revol.util</th>\n",
       "      <th>pub.rec</th>\n",
       "      <th>inq.last.6mths</th>\n",
       "      <th>delinq.2yrs</th>\n",
       "      <th>paid.back.loan</th>\n",
       "    </tr>\n",
       "  </thead>\n",
       "  <tbody>\n",
       "    <tr>\n",
       "      <td>0</td>\n",
       "      <td>LA001</td>\n",
       "      <td>Yes</td>\n",
       "      <td>debt_consolidation</td>\n",
       "      <td>11.89%</td>\n",
       "      <td>829.10</td>\n",
       "      <td>11.350407</td>\n",
       "      <td>19.48</td>\n",
       "      <td>737</td>\n",
       "      <td>5639.958333</td>\n",
       "      <td>28854</td>\n",
       "      <td>52.1</td>\n",
       "      <td>0</td>\n",
       "      <td>Less than 5</td>\n",
       "      <td>No</td>\n",
       "      <td>Yes</td>\n",
       "    </tr>\n",
       "    <tr>\n",
       "      <td>1</td>\n",
       "      <td>LA002</td>\n",
       "      <td>Yes</td>\n",
       "      <td>credit_card</td>\n",
       "      <td>10.71%</td>\n",
       "      <td>228.22</td>\n",
       "      <td>11.082143</td>\n",
       "      <td>14.29</td>\n",
       "      <td>707</td>\n",
       "      <td>2760.000000</td>\n",
       "      <td>33623</td>\n",
       "      <td>76.7</td>\n",
       "      <td>0</td>\n",
       "      <td>Less than 5</td>\n",
       "      <td>No</td>\n",
       "      <td>Yes</td>\n",
       "    </tr>\n",
       "    <tr>\n",
       "      <td>2</td>\n",
       "      <td>LA003</td>\n",
       "      <td>Yes</td>\n",
       "      <td>debt_consolidation</td>\n",
       "      <td>13.57%</td>\n",
       "      <td>366.86</td>\n",
       "      <td>10.373491</td>\n",
       "      <td>11.63</td>\n",
       "      <td>682</td>\n",
       "      <td>4710.000000</td>\n",
       "      <td>3511</td>\n",
       "      <td>25.6</td>\n",
       "      <td>0</td>\n",
       "      <td>Less than 5</td>\n",
       "      <td>No</td>\n",
       "      <td>Yes</td>\n",
       "    </tr>\n",
       "    <tr>\n",
       "      <td>3</td>\n",
       "      <td>LA004</td>\n",
       "      <td>Yes</td>\n",
       "      <td>debt_consolidation</td>\n",
       "      <td>10.08%</td>\n",
       "      <td>162.34</td>\n",
       "      <td>11.350407</td>\n",
       "      <td>8.10</td>\n",
       "      <td>712</td>\n",
       "      <td>2699.958333</td>\n",
       "      <td>33667</td>\n",
       "      <td>73.2</td>\n",
       "      <td>0</td>\n",
       "      <td>Less than 5</td>\n",
       "      <td>No</td>\n",
       "      <td>Yes</td>\n",
       "    </tr>\n",
       "    <tr>\n",
       "      <td>4</td>\n",
       "      <td>LA005</td>\n",
       "      <td>Yes</td>\n",
       "      <td>credit_card</td>\n",
       "      <td>14.26%</td>\n",
       "      <td>102.92</td>\n",
       "      <td>11.299732</td>\n",
       "      <td>14.97</td>\n",
       "      <td>667</td>\n",
       "      <td>4066.000000</td>\n",
       "      <td>4740</td>\n",
       "      <td>39.5</td>\n",
       "      <td>0</td>\n",
       "      <td>Less than 5</td>\n",
       "      <td>Yes</td>\n",
       "      <td>Yes</td>\n",
       "    </tr>\n",
       "  </tbody>\n",
       "</table>\n",
       "</div>"
      ],
      "text/plain": [
       "  customer.id credit.policy             purpose int.rate  installment  \\\n",
       "0       LA001           Yes  debt_consolidation   11.89%       829.10   \n",
       "1       LA002           Yes         credit_card   10.71%       228.22   \n",
       "2       LA003           Yes  debt_consolidation   13.57%       366.86   \n",
       "3       LA004           Yes  debt_consolidation   10.08%       162.34   \n",
       "4       LA005           Yes         credit_card   14.26%       102.92   \n",
       "\n",
       "   log.annual.inc    dti  fico  days.with.cr.line  revol.bal  revol.util  \\\n",
       "0       11.350407  19.48   737        5639.958333      28854        52.1   \n",
       "1       11.082143  14.29   707        2760.000000      33623        76.7   \n",
       "2       10.373491  11.63   682        4710.000000       3511        25.6   \n",
       "3       11.350407   8.10   712        2699.958333      33667        73.2   \n",
       "4       11.299732  14.97   667        4066.000000       4740        39.5   \n",
       "\n",
       "   pub.rec inq.last.6mths delinq.2yrs paid.back.loan  \n",
       "0        0    Less than 5          No            Yes  \n",
       "1        0    Less than 5          No            Yes  \n",
       "2        0    Less than 5          No            Yes  \n",
       "3        0    Less than 5          No            Yes  \n",
       "4        0    Less than 5         Yes            Yes  "
      ]
     },
     "execution_count": 2,
     "metadata": {},
     "output_type": "execute_result"
    }
   ],
   "source": [
    "df=pd.read_csv('loan defaulter.csv.csv')\n",
    "df.head()"
   ]
  },
  {
   "cell_type": "code",
   "execution_count": 3,
   "metadata": {},
   "outputs": [
    {
     "data": {
      "text/plain": [
       "customer.id          0\n",
       "credit.policy        0\n",
       "purpose              0\n",
       "int.rate             0\n",
       "installment          0\n",
       "log.annual.inc       0\n",
       "dti                  0\n",
       "fico                 0\n",
       "days.with.cr.line    0\n",
       "revol.bal            0\n",
       "revol.util           0\n",
       "pub.rec              0\n",
       "inq.last.6mths       0\n",
       "delinq.2yrs          0\n",
       "paid.back.loan       0\n",
       "dtype: int64"
      ]
     },
     "execution_count": 3,
     "metadata": {},
     "output_type": "execute_result"
    }
   ],
   "source": [
    "df.isnull().sum()"
   ]
  },
  {
   "cell_type": "code",
   "execution_count": 4,
   "metadata": {},
   "outputs": [],
   "source": [
    "df.drop('customer.id',axis=1,inplace=True)"
   ]
  },
  {
   "cell_type": "code",
   "execution_count": 5,
   "metadata": {},
   "outputs": [
    {
     "name": "stdout",
     "output_type": "stream",
     "text": [
      "<class 'pandas.core.frame.DataFrame'>\n",
      "RangeIndex: 9578 entries, 0 to 9577\n",
      "Data columns (total 14 columns):\n",
      "credit.policy        9578 non-null object\n",
      "purpose              9578 non-null object\n",
      "int.rate             9578 non-null object\n",
      "installment          9578 non-null float64\n",
      "log.annual.inc       9578 non-null float64\n",
      "dti                  9578 non-null float64\n",
      "fico                 9578 non-null int64\n",
      "days.with.cr.line    9578 non-null float64\n",
      "revol.bal            9578 non-null int64\n",
      "revol.util           9578 non-null float64\n",
      "pub.rec              9578 non-null int64\n",
      "inq.last.6mths       9578 non-null object\n",
      "delinq.2yrs          9578 non-null object\n",
      "paid.back.loan       9578 non-null object\n",
      "dtypes: float64(5), int64(3), object(6)\n",
      "memory usage: 1.0+ MB\n"
     ]
    }
   ],
   "source": [
    "df.info()"
   ]
  },
  {
   "cell_type": "code",
   "execution_count": 6,
   "metadata": {},
   "outputs": [
    {
     "data": {
      "image/png": "[encoded data removed]",
      "text/plain": [
       "<Figure size 432x288 with 1 Axes>"
      ]
     },
     "metadata": {
      "needs_background": "light"
     },
     "output_type": "display_data"
    }
   ],
   "source": [
    "#df.paid.back.loan.value_counts()\n",
    "sns.countplot(x='paid.back.loan',data=df,palette='hls')\n",
    "plt.show()"
   ]
  },
  {
   "cell_type": "code",
   "execution_count": 7,
   "metadata": {},
   "outputs": [],
   "source": [
    "\n",
    "loan_cat = df.select_dtypes(object)\n",
    "loan_num = df.select_dtypes([\"float64\",\"int64\"])"
   ]
  },
  {
   "cell_type": "code",
   "execution_count": 8,
   "metadata": {},
   "outputs": [],
   "source": [
    "from sklearn.preprocessing import LabelEncoder\n"
   ]
  },
  {
   "cell_type": "code",
   "execution_count": 9,
   "metadata": {},
   "outputs": [
    {
     "name": "stdout",
     "output_type": "stream",
     "text": [
      "credit.policy  :  ['No' 'Yes']\n",
      "purpose  :  ['all_other' 'credit_card' 'debt_consolidation' 'educational'\n",
      " 'home_improvement' 'major_purchase' 'small_business']\n",
      "int.rate  :  ['10.01%' '10.08%' '10.14%' '10.20%' '10.25%' '10.28%' '10.33%' '10.39%'\n",
      " '10.46%' '10.51%' '10.59%' '10.62%' '10.64%' '10.71%' '10.78%' '10.83%'\n",
      " '10.91%' '10.95%' '10.96%' '10.99%' '11.03%' '11.09%' '11.14%' '11.22%'\n",
      " '11.26%' '11.28%' '11.34%' '11.36%' '11.41%' '11.46%' '11.48%' '11.54%'\n",
      " '11.58%' '11.59%' '11.66%' '11.72%' '11.78%' '11.83%' '11.86%' '11.89%'\n",
      " '11.91%' '11.97%' '12.04%' '12.09%' '12.17%' '12.18%' '12.21%' '12.22%'\n",
      " '12.29%' '12.36%' '12.41%' '12.49%' '12.53%' '12.54%' '12.61%' '12.67%'\n",
      " '12.72%' '12.73%' '12.80%' '12.84%' '12.86%' '12.87%' '12.92%' '12.99%'\n",
      " '13.04%' '13.11%' '13.12%' '13.16%' '13.17%' '13.22%' '13.24%' '13.30%'\n",
      " '13.36%' '13.43%' '13.47%' '13.48%' '13.49%' '13.55%' '13.57%' '13.62%'\n",
      " '13.67%' '13.75%' '13.79%' '13.80%' '13.85%' '13.87%' '13.92%' '13.93%'\n",
      " '13.99%' '14.07%' '14.11%' '14.12%' '14.18%' '14.22%' '14.25%' '14.26%'\n",
      " '14.30%' '14.38%' '14.42%' '14.43%' '14.50%' '14.57%' '14.59%' '14.61%'\n",
      " '14.62%' '14.67%' '14.70%' '14.74%' '14.75%' '14.82%' '14.88%' '14.93%'\n",
      " '14.96%' '15.01%' '15.05%' '15.07%' '15.13%' '15.20%' '15.25%' '15.31%'\n",
      " '15.33%' '15.37%' '15.38%' '15.45%' '15.51%' '15.57%' '15.65%' '15.68%'\n",
      " '15.70%' '15.76%' '15.83%' '15.88%' '15.96%' '16.00%' '16.01%' '16.07%'\n",
      " '16.08%' '16.15%' '16.20%' '16.28%' '16.32%' '16.33%' '16.35%' '16.40%'\n",
      " '16.45%' '16.46%' '16.59%' '16.63%' '16.65%' '16.70%' '16.71%' '16.82%'\n",
      " '16.83%' '16.91%' '16.95%' '16.96%' '17.03%' '17.04%' '17.09%' '17.15%'\n",
      " '17.19%' '17.22%' '17.26%' '17.28%' '17.34%' '17.39%' '17.41%' '17.46%'\n",
      " '17.54%' '17.56%' '17.58%' '17.59%' '17.66%' '17.72%' '17.74%' '17.78%'\n",
      " '17.86%' '17.90%' '17.91%' '17.93%' '17.97%' '18.04%' '18.09%' '18.21%'\n",
      " '18.29%' '18.30%' '18.36%' '18.43%' '18.53%' '18.54%' '18.61%' '18.67%'\n",
      " '18.72%' '18.78%' '18.84%' '18.86%' '19.04%' '19.13%' '19.16%' '19.36%'\n",
      " '19.41%' '19.47%' '19.79%' '19.82%' '20.11%' '20.16%' '20.17%' '20.52%'\n",
      " '20.86%' '20.90%' '21.21%' '21.64%' '6.00%' '6.39%' '6.76%' '7.05%'\n",
      " '7.12%' '7.14%' '7.37%' '7.40%' '7.43%' '7.51%' '7.68%' '7.74%' '7.75%'\n",
      " '7.88%' '8.00%' '8.07%' '8.32%' '8.38%' '8.59%' '8.63%' '8.70%' '8.94%'\n",
      " '9.01%' '9.07%' '9.20%' '9.32%' '9.33%' '9.38%' '9.45%' '9.51%' '9.63%'\n",
      " '9.64%' '9.70%' '9.76%' '9.83%' '9.88%' '9.96%']\n",
      "inq.last.6mths  :  ['Less than 10' 'Less than 20' 'Less than 40' 'Less than 5']\n",
      "delinq.2yrs  :  ['No' 'Yes']\n",
      "paid.back.loan  :  ['No' 'Yes']\n"
     ]
    },
    {
     "data": {
      "text/html": [
       "<div>\n",
       "<style scoped>\n",
       "    .dataframe tbody tr th:only-of-type {\n",
       "        vertical-align: middle;\n",
       "    }\n",
       "\n",
       "    .dataframe tbody tr th {\n",
       "        vertical-align: top;\n",
       "    }\n",
       "\n",
       "    .dataframe thead th {\n",
       "        text-align: right;\n",
       "    }\n",
       "</style>\n",
       "<table border=\"1\" class=\"dataframe\">\n",
       "  <thead>\n",
       "    <tr style=\"text-align: right;\">\n",
       "      <th></th>\n",
       "      <th>credit.policy</th>\n",
       "      <th>purpose</th>\n",
       "      <th>int.rate</th>\n",
       "      <th>inq.last.6mths</th>\n",
       "      <th>delinq.2yrs</th>\n",
       "      <th>paid.back.loan</th>\n",
       "    </tr>\n",
       "  </thead>\n",
       "  <tbody>\n",
       "    <tr>\n",
       "      <td>0</td>\n",
       "      <td>1</td>\n",
       "      <td>2</td>\n",
       "      <td>39</td>\n",
       "      <td>3</td>\n",
       "      <td>0</td>\n",
       "      <td>1</td>\n",
       "    </tr>\n",
       "    <tr>\n",
       "      <td>1</td>\n",
       "      <td>1</td>\n",
       "      <td>1</td>\n",
       "      <td>13</td>\n",
       "      <td>3</td>\n",
       "      <td>0</td>\n",
       "      <td>1</td>\n",
       "    </tr>\n",
       "    <tr>\n",
       "      <td>2</td>\n",
       "      <td>1</td>\n",
       "      <td>2</td>\n",
       "      <td>78</td>\n",
       "      <td>3</td>\n",
       "      <td>0</td>\n",
       "      <td>1</td>\n",
       "    </tr>\n",
       "    <tr>\n",
       "      <td>3</td>\n",
       "      <td>1</td>\n",
       "      <td>2</td>\n",
       "      <td>1</td>\n",
       "      <td>3</td>\n",
       "      <td>0</td>\n",
       "      <td>1</td>\n",
       "    </tr>\n",
       "    <tr>\n",
       "      <td>4</td>\n",
       "      <td>1</td>\n",
       "      <td>1</td>\n",
       "      <td>95</td>\n",
       "      <td>3</td>\n",
       "      <td>1</td>\n",
       "      <td>1</td>\n",
       "    </tr>\n",
       "  </tbody>\n",
       "</table>\n",
       "</div>"
      ],
      "text/plain": [
       "   credit.policy  purpose  int.rate  inq.last.6mths  delinq.2yrs  \\\n",
       "0              1        2        39               3            0   \n",
       "1              1        1        13               3            0   \n",
       "2              1        2        78               3            0   \n",
       "3              1        2         1               3            0   \n",
       "4              1        1        95               3            1   \n",
       "\n",
       "   paid.back.loan  \n",
       "0               1  \n",
       "1               1  \n",
       "2               1  \n",
       "3               1  \n",
       "4               1  "
      ]
     },
     "execution_count": 9,
     "metadata": {},
     "output_type": "execute_result"
    }
   ],
   "source": [
    "for col in loan_cat:\n",
    "    le = LabelEncoder()\n",
    "    # fit transform generates the classes as well as transforms the data\n",
    "    loan_cat[col] = le.fit_transform(loan_cat[col])\n",
    "    print(col, \" : \", le.classes_)\n",
    "loan_cat.head()"
   ]
  },
  {
   "cell_type": "code",
   "execution_count": 10,
   "metadata": {},
   "outputs": [
    {
     "data": {
      "text/html": [
       "<div>\n",
       "<style scoped>\n",
       "    .dataframe tbody tr th:only-of-type {\n",
       "        vertical-align: middle;\n",
       "    }\n",
       "\n",
       "    .dataframe tbody tr th {\n",
       "        vertical-align: top;\n",
       "    }\n",
       "\n",
       "    .dataframe thead th {\n",
       "        text-align: right;\n",
       "    }\n",
       "</style>\n",
       "<table border=\"1\" class=\"dataframe\">\n",
       "  <thead>\n",
       "    <tr style=\"text-align: right;\">\n",
       "      <th></th>\n",
       "      <th>installment</th>\n",
       "      <th>log.annual.inc</th>\n",
       "      <th>dti</th>\n",
       "      <th>fico</th>\n",
       "      <th>days.with.cr.line</th>\n",
       "      <th>revol.bal</th>\n",
       "      <th>revol.util</th>\n",
       "      <th>pub.rec</th>\n",
       "      <th>credit.policy</th>\n",
       "      <th>purpose</th>\n",
       "      <th>int.rate</th>\n",
       "      <th>inq.last.6mths</th>\n",
       "      <th>delinq.2yrs</th>\n",
       "      <th>paid.back.loan</th>\n",
       "    </tr>\n",
       "  </thead>\n",
       "  <tbody>\n",
       "    <tr>\n",
       "      <td>0</td>\n",
       "      <td>829.10</td>\n",
       "      <td>11.350407</td>\n",
       "      <td>19.48</td>\n",
       "      <td>737</td>\n",
       "      <td>5639.958333</td>\n",
       "      <td>28854</td>\n",
       "      <td>52.1</td>\n",
       "      <td>0</td>\n",
       "      <td>1</td>\n",
       "      <td>2</td>\n",
       "      <td>39</td>\n",
       "      <td>3</td>\n",
       "      <td>0</td>\n",
       "      <td>1</td>\n",
       "    </tr>\n",
       "    <tr>\n",
       "      <td>1</td>\n",
       "      <td>228.22</td>\n",
       "      <td>11.082143</td>\n",
       "      <td>14.29</td>\n",
       "      <td>707</td>\n",
       "      <td>2760.000000</td>\n",
       "      <td>33623</td>\n",
       "      <td>76.7</td>\n",
       "      <td>0</td>\n",
       "      <td>1</td>\n",
       "      <td>1</td>\n",
       "      <td>13</td>\n",
       "      <td>3</td>\n",
       "      <td>0</td>\n",
       "      <td>1</td>\n",
       "    </tr>\n",
       "    <tr>\n",
       "      <td>2</td>\n",
       "      <td>366.86</td>\n",
       "      <td>10.373491</td>\n",
       "      <td>11.63</td>\n",
       "      <td>682</td>\n",
       "      <td>4710.000000</td>\n",
       "      <td>3511</td>\n",
       "      <td>25.6</td>\n",
       "      <td>0</td>\n",
       "      <td>1</td>\n",
       "      <td>2</td>\n",
       "      <td>78</td>\n",
       "      <td>3</td>\n",
       "      <td>0</td>\n",
       "      <td>1</td>\n",
       "    </tr>\n",
       "    <tr>\n",
       "      <td>3</td>\n",
       "      <td>162.34</td>\n",
       "      <td>11.350407</td>\n",
       "      <td>8.10</td>\n",
       "      <td>712</td>\n",
       "      <td>2699.958333</td>\n",
       "      <td>33667</td>\n",
       "      <td>73.2</td>\n",
       "      <td>0</td>\n",
       "      <td>1</td>\n",
       "      <td>2</td>\n",
       "      <td>1</td>\n",
       "      <td>3</td>\n",
       "      <td>0</td>\n",
       "      <td>1</td>\n",
       "    </tr>\n",
       "    <tr>\n",
       "      <td>4</td>\n",
       "      <td>102.92</td>\n",
       "      <td>11.299732</td>\n",
       "      <td>14.97</td>\n",
       "      <td>667</td>\n",
       "      <td>4066.000000</td>\n",
       "      <td>4740</td>\n",
       "      <td>39.5</td>\n",
       "      <td>0</td>\n",
       "      <td>1</td>\n",
       "      <td>1</td>\n",
       "      <td>95</td>\n",
       "      <td>3</td>\n",
       "      <td>1</td>\n",
       "      <td>1</td>\n",
       "    </tr>\n",
       "  </tbody>\n",
       "</table>\n",
       "</div>"
      ],
      "text/plain": [
       "   installment  log.annual.inc    dti  fico  days.with.cr.line  revol.bal  \\\n",
       "0       829.10       11.350407  19.48   737        5639.958333      28854   \n",
       "1       228.22       11.082143  14.29   707        2760.000000      33623   \n",
       "2       366.86       10.373491  11.63   682        4710.000000       3511   \n",
       "3       162.34       11.350407   8.10   712        2699.958333      33667   \n",
       "4       102.92       11.299732  14.97   667        4066.000000       4740   \n",
       "\n",
       "   revol.util  pub.rec  credit.policy  purpose  int.rate  inq.last.6mths  \\\n",
       "0        52.1        0              1        2        39               3   \n",
       "1        76.7        0              1        1        13               3   \n",
       "2        25.6        0              1        2        78               3   \n",
       "3        73.2        0              1        2         1               3   \n",
       "4        39.5        0              1        1        95               3   \n",
       "\n",
       "   delinq.2yrs  paid.back.loan  \n",
       "0            0               1  \n",
       "1            0               1  \n",
       "2            0               1  \n",
       "3            0               1  \n",
       "4            1               1  "
      ]
     },
     "execution_count": 10,
     "metadata": {},
     "output_type": "execute_result"
    }
   ],
   "source": [
    "loan_new = pd.concat([loan_num, loan_cat], axis=1)\n",
    "loan_new.head()"
   ]
  },
  {
   "cell_type": "code",
   "execution_count": null,
   "metadata": {},
   "outputs": [],
   "source": []
  },
  {
   "cell_type": "code",
   "execution_count": null,
   "metadata": {},
   "outputs": [],
   "source": []
  },
  {
   "cell_type": "code",
   "execution_count": 16,
   "metadata": {},
   "outputs": [],
   "source": [
    "from sklearn.preprocessing import MinMaxScaler\n",
    "mx = MinMaxScaler()"
   ]
  },
  {
   "cell_type": "code",
   "execution_count": null,
   "metadata": {},
   "outputs": [],
   "source": []
  },
  {
   "cell_type": "code",
   "execution_count": 17,
   "metadata": {},
   "outputs": [
    {
     "data": {
      "text/html": [
       "<div>\n",
       "<style scoped>\n",
       "    .dataframe tbody tr th:only-of-type {\n",
       "        vertical-align: middle;\n",
       "    }\n",
       "\n",
       "    .dataframe tbody tr th {\n",
       "        vertical-align: top;\n",
       "    }\n",
       "\n",
       "    .dataframe thead th {\n",
       "        text-align: right;\n",
       "    }\n",
       "</style>\n",
       "<table border=\"1\" class=\"dataframe\">\n",
       "  <thead>\n",
       "    <tr style=\"text-align: right;\">\n",
       "      <th></th>\n",
       "      <th>installment</th>\n",
       "      <th>log.annual.inc</th>\n",
       "      <th>dti</th>\n",
       "      <th>fico</th>\n",
       "      <th>days.with.cr.line</th>\n",
       "      <th>revol.bal</th>\n",
       "      <th>revol.util</th>\n",
       "      <th>pub.rec</th>\n",
       "      <th>credit.policy</th>\n",
       "      <th>purpose</th>\n",
       "      <th>int.rate</th>\n",
       "      <th>inq.last.6mths</th>\n",
       "      <th>delinq.2yrs</th>\n",
       "      <th>paid.back.loan</th>\n",
       "    </tr>\n",
       "  </thead>\n",
       "  <tbody>\n",
       "    <tr>\n",
       "      <td>0</td>\n",
       "      <td>0.879888</td>\n",
       "      <td>0.544762</td>\n",
       "      <td>0.650200</td>\n",
       "      <td>0.581395</td>\n",
       "      <td>0.312754</td>\n",
       "      <td>0.023898</td>\n",
       "      <td>0.437815</td>\n",
       "      <td>0.0</td>\n",
       "      <td>1.0</td>\n",
       "      <td>0.333333</td>\n",
       "      <td>0.157258</td>\n",
       "      <td>1.0</td>\n",
       "      <td>0.0</td>\n",
       "      <td>1.0</td>\n",
       "    </tr>\n",
       "    <tr>\n",
       "      <td>1</td>\n",
       "      <td>0.229916</td>\n",
       "      <td>0.506334</td>\n",
       "      <td>0.476969</td>\n",
       "      <td>0.441860</td>\n",
       "      <td>0.147818</td>\n",
       "      <td>0.027848</td>\n",
       "      <td>0.644538</td>\n",
       "      <td>0.0</td>\n",
       "      <td>1.0</td>\n",
       "      <td>0.166667</td>\n",
       "      <td>0.052419</td>\n",
       "      <td>1.0</td>\n",
       "      <td>0.0</td>\n",
       "      <td>1.0</td>\n",
       "    </tr>\n",
       "    <tr>\n",
       "      <td>2</td>\n",
       "      <td>0.379883</td>\n",
       "      <td>0.404820</td>\n",
       "      <td>0.388184</td>\n",
       "      <td>0.325581</td>\n",
       "      <td>0.259495</td>\n",
       "      <td>0.002908</td>\n",
       "      <td>0.215126</td>\n",
       "      <td>0.0</td>\n",
       "      <td>1.0</td>\n",
       "      <td>0.333333</td>\n",
       "      <td>0.314516</td>\n",
       "      <td>1.0</td>\n",
       "      <td>0.0</td>\n",
       "      <td>1.0</td>\n",
       "    </tr>\n",
       "    <tr>\n",
       "      <td>3</td>\n",
       "      <td>0.158653</td>\n",
       "      <td>0.544762</td>\n",
       "      <td>0.270360</td>\n",
       "      <td>0.465116</td>\n",
       "      <td>0.144379</td>\n",
       "      <td>0.027885</td>\n",
       "      <td>0.615126</td>\n",
       "      <td>0.0</td>\n",
       "      <td>1.0</td>\n",
       "      <td>0.333333</td>\n",
       "      <td>0.004032</td>\n",
       "      <td>1.0</td>\n",
       "      <td>0.0</td>\n",
       "      <td>1.0</td>\n",
       "    </tr>\n",
       "    <tr>\n",
       "      <td>4</td>\n",
       "      <td>0.094378</td>\n",
       "      <td>0.537503</td>\n",
       "      <td>0.499666</td>\n",
       "      <td>0.255814</td>\n",
       "      <td>0.222613</td>\n",
       "      <td>0.003926</td>\n",
       "      <td>0.331933</td>\n",
       "      <td>0.0</td>\n",
       "      <td>1.0</td>\n",
       "      <td>0.166667</td>\n",
       "      <td>0.383065</td>\n",
       "      <td>1.0</td>\n",
       "      <td>1.0</td>\n",
       "      <td>1.0</td>\n",
       "    </tr>\n",
       "  </tbody>\n",
       "</table>\n",
       "</div>"
      ],
      "text/plain": [
       "   installment  log.annual.inc       dti      fico  days.with.cr.line  \\\n",
       "0     0.879888        0.544762  0.650200  0.581395           0.312754   \n",
       "1     0.229916        0.506334  0.476969  0.441860           0.147818   \n",
       "2     0.379883        0.404820  0.388184  0.325581           0.259495   \n",
       "3     0.158653        0.544762  0.270360  0.465116           0.144379   \n",
       "4     0.094378        0.537503  0.499666  0.255814           0.222613   \n",
       "\n",
       "   revol.bal  revol.util  pub.rec  credit.policy   purpose  int.rate  \\\n",
       "0   0.023898    0.437815      0.0            1.0  0.333333  0.157258   \n",
       "1   0.027848    0.644538      0.0            1.0  0.166667  0.052419   \n",
       "2   0.002908    0.215126      0.0            1.0  0.333333  0.314516   \n",
       "3   0.027885    0.615126      0.0            1.0  0.333333  0.004032   \n",
       "4   0.003926    0.331933      0.0            1.0  0.166667  0.383065   \n",
       "\n",
       "   inq.last.6mths  delinq.2yrs  paid.back.loan  \n",
       "0             1.0          0.0             1.0  \n",
       "1             1.0          0.0             1.0  \n",
       "2             1.0          0.0             1.0  \n",
       "3             1.0          0.0             1.0  \n",
       "4             1.0          1.0             1.0  "
      ]
     },
     "execution_count": 17,
     "metadata": {},
     "output_type": "execute_result"
    }
   ],
   "source": [
    "from sklearn.preprocessing import StandardScaler\n",
    "loan_ss = loan_new.copy()\n",
    "for col in loan_ss:\n",
    "    ss = StandardScaler()\n",
    "    loan_ss[col] = mx.fit_transform(loan_ss[[col]])\n",
    "loan_ss.head()"
   ]
  },
  {
   "cell_type": "code",
   "execution_count": null,
   "metadata": {},
   "outputs": [],
   "source": []
  },
  {
   "cell_type": "code",
   "execution_count": 18,
   "metadata": {},
   "outputs": [
    {
     "data": {
      "text/html": [
       "<div>\n",
       "<style scoped>\n",
       "    .dataframe tbody tr th:only-of-type {\n",
       "        vertical-align: middle;\n",
       "    }\n",
       "\n",
       "    .dataframe tbody tr th {\n",
       "        vertical-align: top;\n",
       "    }\n",
       "\n",
       "    .dataframe thead th {\n",
       "        text-align: right;\n",
       "    }\n",
       "</style>\n",
       "<table border=\"1\" class=\"dataframe\">\n",
       "  <thead>\n",
       "    <tr style=\"text-align: right;\">\n",
       "      <th></th>\n",
       "      <th>installment</th>\n",
       "      <th>log.annual.inc</th>\n",
       "      <th>dti</th>\n",
       "      <th>fico</th>\n",
       "      <th>days.with.cr.line</th>\n",
       "      <th>revol.bal</th>\n",
       "      <th>revol.util</th>\n",
       "      <th>pub.rec</th>\n",
       "      <th>credit.policy</th>\n",
       "      <th>purpose</th>\n",
       "      <th>int.rate</th>\n",
       "      <th>inq.last.6mths</th>\n",
       "      <th>delinq.2yrs</th>\n",
       "      <th>paid.back.loan</th>\n",
       "    </tr>\n",
       "  </thead>\n",
       "  <tbody>\n",
       "    <tr>\n",
       "      <td>installment</td>\n",
       "      <td>1.000000</td>\n",
       "      <td>0.448102</td>\n",
       "      <td>0.050202</td>\n",
       "      <td>0.086039</td>\n",
       "      <td>0.183297</td>\n",
       "      <td>0.233625</td>\n",
       "      <td>0.081356</td>\n",
       "      <td>-0.032760</td>\n",
       "      <td>0.058770</td>\n",
       "      <td>0.154827</td>\n",
       "      <td>-0.122536</td>\n",
       "      <td>-0.005717</td>\n",
       "      <td>-0.000578</td>\n",
       "      <td>-0.049955</td>\n",
       "    </tr>\n",
       "    <tr>\n",
       "      <td>log.annual.inc</td>\n",
       "      <td>0.448102</td>\n",
       "      <td>1.000000</td>\n",
       "      <td>-0.054065</td>\n",
       "      <td>0.114576</td>\n",
       "      <td>0.336896</td>\n",
       "      <td>0.372140</td>\n",
       "      <td>0.054881</td>\n",
       "      <td>0.016506</td>\n",
       "      <td>0.034906</td>\n",
       "      <td>0.088958</td>\n",
       "      <td>0.005410</td>\n",
       "      <td>-0.027215</td>\n",
       "      <td>0.024569</td>\n",
       "      <td>0.033439</td>\n",
       "    </tr>\n",
       "    <tr>\n",
       "      <td>dti</td>\n",
       "      <td>0.050202</td>\n",
       "      <td>-0.054065</td>\n",
       "      <td>1.000000</td>\n",
       "      <td>-0.241191</td>\n",
       "      <td>0.060101</td>\n",
       "      <td>0.188748</td>\n",
       "      <td>0.337109</td>\n",
       "      <td>0.006209</td>\n",
       "      <td>-0.090901</td>\n",
       "      <td>-0.053279</td>\n",
       "      <td>-0.120368</td>\n",
       "      <td>-0.018515</td>\n",
       "      <td>-0.016648</td>\n",
       "      <td>-0.037362</td>\n",
       "    </tr>\n",
       "    <tr>\n",
       "      <td>fico</td>\n",
       "      <td>0.086039</td>\n",
       "      <td>0.114576</td>\n",
       "      <td>-0.241191</td>\n",
       "      <td>1.000000</td>\n",
       "      <td>0.263880</td>\n",
       "      <td>-0.015553</td>\n",
       "      <td>-0.541289</td>\n",
       "      <td>-0.147592</td>\n",
       "      <td>0.348319</td>\n",
       "      <td>0.057337</td>\n",
       "      <td>0.334561</td>\n",
       "      <td>0.114942</td>\n",
       "      <td>-0.227476</td>\n",
       "      <td>0.149666</td>\n",
       "    </tr>\n",
       "    <tr>\n",
       "      <td>days.with.cr.line</td>\n",
       "      <td>0.183297</td>\n",
       "      <td>0.336896</td>\n",
       "      <td>0.060101</td>\n",
       "      <td>0.263880</td>\n",
       "      <td>1.000000</td>\n",
       "      <td>0.229344</td>\n",
       "      <td>-0.024239</td>\n",
       "      <td>0.071826</td>\n",
       "      <td>0.099026</td>\n",
       "      <td>0.047526</td>\n",
       "      <td>0.086392</td>\n",
       "      <td>0.009274</td>\n",
       "      <td>0.085050</td>\n",
       "      <td>0.029237</td>\n",
       "    </tr>\n",
       "    <tr>\n",
       "      <td>revol.bal</td>\n",
       "      <td>0.233625</td>\n",
       "      <td>0.372140</td>\n",
       "      <td>0.188748</td>\n",
       "      <td>-0.015553</td>\n",
       "      <td>0.229344</td>\n",
       "      <td>1.000000</td>\n",
       "      <td>0.203779</td>\n",
       "      <td>-0.031010</td>\n",
       "      <td>-0.187518</td>\n",
       "      <td>0.042364</td>\n",
       "      <td>-0.031110</td>\n",
       "      <td>-0.024545</td>\n",
       "      <td>-0.025654</td>\n",
       "      <td>-0.053699</td>\n",
       "    </tr>\n",
       "    <tr>\n",
       "      <td>revol.util</td>\n",
       "      <td>0.081356</td>\n",
       "      <td>0.054881</td>\n",
       "      <td>0.337109</td>\n",
       "      <td>-0.541289</td>\n",
       "      <td>-0.024239</td>\n",
       "      <td>0.203779</td>\n",
       "      <td>1.000000</td>\n",
       "      <td>0.066717</td>\n",
       "      <td>-0.104095</td>\n",
       "      <td>-0.062947</td>\n",
       "      <td>-0.227108</td>\n",
       "      <td>0.022089</td>\n",
       "      <td>-0.031088</td>\n",
       "      <td>-0.082088</td>\n",
       "    </tr>\n",
       "    <tr>\n",
       "      <td>pub.rec</td>\n",
       "      <td>-0.032760</td>\n",
       "      <td>0.016506</td>\n",
       "      <td>0.006209</td>\n",
       "      <td>-0.147592</td>\n",
       "      <td>0.071826</td>\n",
       "      <td>-0.031010</td>\n",
       "      <td>0.066717</td>\n",
       "      <td>1.000000</td>\n",
       "      <td>-0.054243</td>\n",
       "      <td>0.004793</td>\n",
       "      <td>-0.065040</td>\n",
       "      <td>-0.073346</td>\n",
       "      <td>0.004244</td>\n",
       "      <td>-0.048634</td>\n",
       "    </tr>\n",
       "    <tr>\n",
       "      <td>credit.policy</td>\n",
       "      <td>0.058770</td>\n",
       "      <td>0.034906</td>\n",
       "      <td>-0.090901</td>\n",
       "      <td>0.348319</td>\n",
       "      <td>0.099026</td>\n",
       "      <td>-0.187518</td>\n",
       "      <td>-0.104095</td>\n",
       "      <td>-0.054243</td>\n",
       "      <td>1.000000</td>\n",
       "      <td>0.017569</td>\n",
       "      <td>0.021417</td>\n",
       "      <td>0.505044</td>\n",
       "      <td>-0.055405</td>\n",
       "      <td>0.158119</td>\n",
       "    </tr>\n",
       "    <tr>\n",
       "      <td>purpose</td>\n",
       "      <td>0.154827</td>\n",
       "      <td>0.088958</td>\n",
       "      <td>-0.053279</td>\n",
       "      <td>0.057337</td>\n",
       "      <td>0.047526</td>\n",
       "      <td>0.042364</td>\n",
       "      <td>-0.062947</td>\n",
       "      <td>0.004793</td>\n",
       "      <td>0.017569</td>\n",
       "      <td>1.000000</td>\n",
       "      <td>0.013933</td>\n",
       "      <td>-0.015976</td>\n",
       "      <td>-0.007960</td>\n",
       "      <td>-0.047907</td>\n",
       "    </tr>\n",
       "    <tr>\n",
       "      <td>int.rate</td>\n",
       "      <td>-0.122536</td>\n",
       "      <td>0.005410</td>\n",
       "      <td>-0.120368</td>\n",
       "      <td>0.334561</td>\n",
       "      <td>0.086392</td>\n",
       "      <td>-0.031110</td>\n",
       "      <td>-0.227108</td>\n",
       "      <td>-0.065040</td>\n",
       "      <td>0.021417</td>\n",
       "      <td>0.013933</td>\n",
       "      <td>1.000000</td>\n",
       "      <td>0.009460</td>\n",
       "      <td>-0.058559</td>\n",
       "      <td>0.061255</td>\n",
       "    </tr>\n",
       "    <tr>\n",
       "      <td>inq.last.6mths</td>\n",
       "      <td>-0.005717</td>\n",
       "      <td>-0.027215</td>\n",
       "      <td>-0.018515</td>\n",
       "      <td>0.114942</td>\n",
       "      <td>0.009274</td>\n",
       "      <td>-0.024545</td>\n",
       "      <td>0.022089</td>\n",
       "      <td>-0.073346</td>\n",
       "      <td>0.505044</td>\n",
       "      <td>-0.015976</td>\n",
       "      <td>0.009460</td>\n",
       "      <td>1.000000</td>\n",
       "      <td>-0.012855</td>\n",
       "      <td>0.128055</td>\n",
       "    </tr>\n",
       "    <tr>\n",
       "      <td>delinq.2yrs</td>\n",
       "      <td>-0.000578</td>\n",
       "      <td>0.024569</td>\n",
       "      <td>-0.016648</td>\n",
       "      <td>-0.227476</td>\n",
       "      <td>0.085050</td>\n",
       "      <td>-0.025654</td>\n",
       "      <td>-0.031088</td>\n",
       "      <td>0.004244</td>\n",
       "      <td>-0.055405</td>\n",
       "      <td>-0.007960</td>\n",
       "      <td>-0.058559</td>\n",
       "      <td>-0.012855</td>\n",
       "      <td>1.000000</td>\n",
       "      <td>-0.014833</td>\n",
       "    </tr>\n",
       "    <tr>\n",
       "      <td>paid.back.loan</td>\n",
       "      <td>-0.049955</td>\n",
       "      <td>0.033439</td>\n",
       "      <td>-0.037362</td>\n",
       "      <td>0.149666</td>\n",
       "      <td>0.029237</td>\n",
       "      <td>-0.053699</td>\n",
       "      <td>-0.082088</td>\n",
       "      <td>-0.048634</td>\n",
       "      <td>0.158119</td>\n",
       "      <td>-0.047907</td>\n",
       "      <td>0.061255</td>\n",
       "      <td>0.128055</td>\n",
       "      <td>-0.014833</td>\n",
       "      <td>1.000000</td>\n",
       "    </tr>\n",
       "  </tbody>\n",
       "</table>\n",
       "</div>"
      ],
      "text/plain": [
       "                   installment  log.annual.inc       dti      fico  \\\n",
       "installment           1.000000        0.448102  0.050202  0.086039   \n",
       "log.annual.inc        0.448102        1.000000 -0.054065  0.114576   \n",
       "dti                   0.050202       -0.054065  1.000000 -0.241191   \n",
       "fico                  0.086039        0.114576 -0.241191  1.000000   \n",
       "days.with.cr.line     0.183297        0.336896  0.060101  0.263880   \n",
       "revol.bal             0.233625        0.372140  0.188748 -0.015553   \n",
       "revol.util            0.081356        0.054881  0.337109 -0.541289   \n",
       "pub.rec              -0.032760        0.016506  0.006209 -0.147592   \n",
       "credit.policy         0.058770        0.034906 -0.090901  0.348319   \n",
       "purpose               0.154827        0.088958 -0.053279  0.057337   \n",
       "int.rate             -0.122536        0.005410 -0.120368  0.334561   \n",
       "inq.last.6mths       -0.005717       -0.027215 -0.018515  0.114942   \n",
       "delinq.2yrs          -0.000578        0.024569 -0.016648 -0.227476   \n",
       "paid.back.loan       -0.049955        0.033439 -0.037362  0.149666   \n",
       "\n",
       "                   days.with.cr.line  revol.bal  revol.util   pub.rec  \\\n",
       "installment                 0.183297   0.233625    0.081356 -0.032760   \n",
       "log.annual.inc              0.336896   0.372140    0.054881  0.016506   \n",
       "dti                         0.060101   0.188748    0.337109  0.006209   \n",
       "fico                        0.263880  -0.015553   -0.541289 -0.147592   \n",
       "days.with.cr.line           1.000000   0.229344   -0.024239  0.071826   \n",
       "revol.bal                   0.229344   1.000000    0.203779 -0.031010   \n",
       "revol.util                 -0.024239   0.203779    1.000000  0.066717   \n",
       "pub.rec                     0.071826  -0.031010    0.066717  1.000000   \n",
       "credit.policy               0.099026  -0.187518   -0.104095 -0.054243   \n",
       "purpose                     0.047526   0.042364   -0.062947  0.004793   \n",
       "int.rate                    0.086392  -0.031110   -0.227108 -0.065040   \n",
       "inq.last.6mths              0.009274  -0.024545    0.022089 -0.073346   \n",
       "delinq.2yrs                 0.085050  -0.025654   -0.031088  0.004244   \n",
       "paid.back.loan              0.029237  -0.053699   -0.082088 -0.048634   \n",
       "\n",
       "                   credit.policy   purpose  int.rate  inq.last.6mths  \\\n",
       "installment             0.058770  0.154827 -0.122536       -0.005717   \n",
       "log.annual.inc          0.034906  0.088958  0.005410       -0.027215   \n",
       "dti                    -0.090901 -0.053279 -0.120368       -0.018515   \n",
       "fico                    0.348319  0.057337  0.334561        0.114942   \n",
       "days.with.cr.line       0.099026  0.047526  0.086392        0.009274   \n",
       "revol.bal              -0.187518  0.042364 -0.031110       -0.024545   \n",
       "revol.util             -0.104095 -0.062947 -0.227108        0.022089   \n",
       "pub.rec                -0.054243  0.004793 -0.065040       -0.073346   \n",
       "credit.policy           1.000000  0.017569  0.021417        0.505044   \n",
       "purpose                 0.017569  1.000000  0.013933       -0.015976   \n",
       "int.rate                0.021417  0.013933  1.000000        0.009460   \n",
       "inq.last.6mths          0.505044 -0.015976  0.009460        1.000000   \n",
       "delinq.2yrs            -0.055405 -0.007960 -0.058559       -0.012855   \n",
       "paid.back.loan          0.158119 -0.047907  0.061255        0.128055   \n",
       "\n",
       "                   delinq.2yrs  paid.back.loan  \n",
       "installment          -0.000578       -0.049955  \n",
       "log.annual.inc        0.024569        0.033439  \n",
       "dti                  -0.016648       -0.037362  \n",
       "fico                 -0.227476        0.149666  \n",
       "days.with.cr.line     0.085050        0.029237  \n",
       "revol.bal            -0.025654       -0.053699  \n",
       "revol.util           -0.031088       -0.082088  \n",
       "pub.rec               0.004244       -0.048634  \n",
       "credit.policy        -0.055405        0.158119  \n",
       "purpose              -0.007960       -0.047907  \n",
       "int.rate             -0.058559        0.061255  \n",
       "inq.last.6mths       -0.012855        0.128055  \n",
       "delinq.2yrs           1.000000       -0.014833  \n",
       "paid.back.loan       -0.014833        1.000000  "
      ]
     },
     "execution_count": 18,
     "metadata": {},
     "output_type": "execute_result"
    }
   ],
   "source": [
    "loan_ss.corr()"
   ]
  },
  {
   "cell_type": "code",
   "execution_count": 19,
   "metadata": {},
   "outputs": [
    {
     "data": {
      "text/html": [
       "<div>\n",
       "<style scoped>\n",
       "    .dataframe tbody tr th:only-of-type {\n",
       "        vertical-align: middle;\n",
       "    }\n",
       "\n",
       "    .dataframe tbody tr th {\n",
       "        vertical-align: top;\n",
       "    }\n",
       "\n",
       "    .dataframe thead th {\n",
       "        text-align: right;\n",
       "    }\n",
       "</style>\n",
       "<table border=\"1\" class=\"dataframe\">\n",
       "  <thead>\n",
       "    <tr style=\"text-align: right;\">\n",
       "      <th></th>\n",
       "      <th>installment</th>\n",
       "      <th>log.annual.inc</th>\n",
       "      <th>dti</th>\n",
       "      <th>fico</th>\n",
       "      <th>days.with.cr.line</th>\n",
       "      <th>revol.bal</th>\n",
       "      <th>revol.util</th>\n",
       "      <th>pub.rec</th>\n",
       "      <th>credit.policy</th>\n",
       "      <th>purpose</th>\n",
       "      <th>int.rate</th>\n",
       "      <th>inq.last.6mths</th>\n",
       "      <th>delinq.2yrs</th>\n",
       "    </tr>\n",
       "  </thead>\n",
       "  <tbody>\n",
       "    <tr>\n",
       "      <td>0</td>\n",
       "      <td>0.879888</td>\n",
       "      <td>0.544762</td>\n",
       "      <td>0.650200</td>\n",
       "      <td>0.581395</td>\n",
       "      <td>0.312754</td>\n",
       "      <td>0.023898</td>\n",
       "      <td>0.437815</td>\n",
       "      <td>0.0</td>\n",
       "      <td>1.0</td>\n",
       "      <td>0.333333</td>\n",
       "      <td>0.157258</td>\n",
       "      <td>1.0</td>\n",
       "      <td>0.0</td>\n",
       "    </tr>\n",
       "    <tr>\n",
       "      <td>1</td>\n",
       "      <td>0.229916</td>\n",
       "      <td>0.506334</td>\n",
       "      <td>0.476969</td>\n",
       "      <td>0.441860</td>\n",
       "      <td>0.147818</td>\n",
       "      <td>0.027848</td>\n",
       "      <td>0.644538</td>\n",
       "      <td>0.0</td>\n",
       "      <td>1.0</td>\n",
       "      <td>0.166667</td>\n",
       "      <td>0.052419</td>\n",
       "      <td>1.0</td>\n",
       "      <td>0.0</td>\n",
       "    </tr>\n",
       "    <tr>\n",
       "      <td>2</td>\n",
       "      <td>0.379883</td>\n",
       "      <td>0.404820</td>\n",
       "      <td>0.388184</td>\n",
       "      <td>0.325581</td>\n",
       "      <td>0.259495</td>\n",
       "      <td>0.002908</td>\n",
       "      <td>0.215126</td>\n",
       "      <td>0.0</td>\n",
       "      <td>1.0</td>\n",
       "      <td>0.333333</td>\n",
       "      <td>0.314516</td>\n",
       "      <td>1.0</td>\n",
       "      <td>0.0</td>\n",
       "    </tr>\n",
       "    <tr>\n",
       "      <td>3</td>\n",
       "      <td>0.158653</td>\n",
       "      <td>0.544762</td>\n",
       "      <td>0.270360</td>\n",
       "      <td>0.465116</td>\n",
       "      <td>0.144379</td>\n",
       "      <td>0.027885</td>\n",
       "      <td>0.615126</td>\n",
       "      <td>0.0</td>\n",
       "      <td>1.0</td>\n",
       "      <td>0.333333</td>\n",
       "      <td>0.004032</td>\n",
       "      <td>1.0</td>\n",
       "      <td>0.0</td>\n",
       "    </tr>\n",
       "    <tr>\n",
       "      <td>4</td>\n",
       "      <td>0.094378</td>\n",
       "      <td>0.537503</td>\n",
       "      <td>0.499666</td>\n",
       "      <td>0.255814</td>\n",
       "      <td>0.222613</td>\n",
       "      <td>0.003926</td>\n",
       "      <td>0.331933</td>\n",
       "      <td>0.0</td>\n",
       "      <td>1.0</td>\n",
       "      <td>0.166667</td>\n",
       "      <td>0.383065</td>\n",
       "      <td>1.0</td>\n",
       "      <td>1.0</td>\n",
       "    </tr>\n",
       "  </tbody>\n",
       "</table>\n",
       "</div>"
      ],
      "text/plain": [
       "   installment  log.annual.inc       dti      fico  days.with.cr.line  \\\n",
       "0     0.879888        0.544762  0.650200  0.581395           0.312754   \n",
       "1     0.229916        0.506334  0.476969  0.441860           0.147818   \n",
       "2     0.379883        0.404820  0.388184  0.325581           0.259495   \n",
       "3     0.158653        0.544762  0.270360  0.465116           0.144379   \n",
       "4     0.094378        0.537503  0.499666  0.255814           0.222613   \n",
       "\n",
       "   revol.bal  revol.util  pub.rec  credit.policy   purpose  int.rate  \\\n",
       "0   0.023898    0.437815      0.0            1.0  0.333333  0.157258   \n",
       "1   0.027848    0.644538      0.0            1.0  0.166667  0.052419   \n",
       "2   0.002908    0.215126      0.0            1.0  0.333333  0.314516   \n",
       "3   0.027885    0.615126      0.0            1.0  0.333333  0.004032   \n",
       "4   0.003926    0.331933      0.0            1.0  0.166667  0.383065   \n",
       "\n",
       "   inq.last.6mths  delinq.2yrs  \n",
       "0             1.0          0.0  \n",
       "1             1.0          0.0  \n",
       "2             1.0          0.0  \n",
       "3             1.0          0.0  \n",
       "4             1.0          1.0  "
      ]
     },
     "execution_count": 19,
     "metadata": {},
     "output_type": "execute_result"
    }
   ],
   "source": [
    "x=loan_ss.drop(['paid.back.loan'],axis=1)\n",
    "x.head()"
   ]
  },
  {
   "cell_type": "code",
   "execution_count": 20,
   "metadata": {},
   "outputs": [
    {
     "data": {
      "text/plain": [
       "0    1.0\n",
       "1    1.0\n",
       "2    1.0\n",
       "3    1.0\n",
       "4    1.0\n",
       "Name: paid.back.loan, dtype: float64"
      ]
     },
     "execution_count": 20,
     "metadata": {},
     "output_type": "execute_result"
    }
   ],
   "source": [
    "y=loan_ss['paid.back.loan']\n",
    "y.head()"
   ]
  },
  {
   "cell_type": "code",
   "execution_count": 21,
   "metadata": {},
   "outputs": [],
   "source": [
    "x_train,x_test,y_train,y_test=train_test_split(x,y,test_size=0.20,random_state=0)"
   ]
  },
  {
   "cell_type": "code",
   "execution_count": 25,
   "metadata": {},
   "outputs": [
    {
     "data": {
      "text/plain": [
       "LogisticRegression(C=1.0, class_weight=None, dual=False, fit_intercept=True,\n",
       "                   intercept_scaling=1, l1_ratio=None, max_iter=100,\n",
       "                   multi_class='warn', n_jobs=None, penalty='l2',\n",
       "                   random_state=None, solver='warn', tol=0.0001, verbose=0,\n",
       "                   warm_start=False)"
      ]
     },
     "execution_count": 25,
     "metadata": {},
     "output_type": "execute_result"
    }
   ],
   "source": [
    "logreg = LogisticRegression()\n",
    "logreg.fit(x_train,y_train)"
   ]
  },
  {
   "cell_type": "code",
   "execution_count": 29,
   "metadata": {},
   "outputs": [],
   "source": [
    "y_perd=logreg.predict(x_test)"
   ]
  },
  {
   "cell_type": "code",
   "execution_count": 30,
   "metadata": {},
   "outputs": [
    {
     "data": {
      "text/plain": [
       "array([[   0,  301],\n",
       "       [   0, 1615]], dtype=int64)"
      ]
     },
     "execution_count": 30,
     "metadata": {},
     "output_type": "execute_result"
    }
   ],
   "source": [
    "met=metrics.confusion_matrix(y_test,y_perd)\n",
    "met"
   ]
  },
  {
   "cell_type": "code",
   "execution_count": 31,
   "metadata": {},
   "outputs": [
    {
     "ename": "NameError",
     "evalue": "name 'y_pred' is not defined",
     "output_type": "error",
     "traceback": [
      "\u001b[1;31m---------------------------------------------------------------------------\u001b[0m",
      "\u001b[1;31mNameError\u001b[0m                                 Traceback (most recent call last)",
      "\u001b[1;32m<ipython-input-31-69c1fa5fcfa7>\u001b[0m in \u001b[0;36m<module>\u001b[1;34m\u001b[0m\n\u001b[0;32m      1\u001b[0m \u001b[1;32mfrom\u001b[0m \u001b[0msklearn\u001b[0m\u001b[1;33m.\u001b[0m\u001b[0mmetrics\u001b[0m \u001b[1;32mimport\u001b[0m \u001b[0mclassification_report\u001b[0m\u001b[1;33m,\u001b[0m \u001b[0mconfusion_matrix\u001b[0m\u001b[1;33m\u001b[0m\u001b[1;33m\u001b[0m\u001b[0m\n\u001b[1;32m----> 2\u001b[1;33m \u001b[0mtn\u001b[0m\u001b[1;33m,\u001b[0m \u001b[0mfp\u001b[0m\u001b[1;33m,\u001b[0m \u001b[0mfn\u001b[0m\u001b[1;33m,\u001b[0m \u001b[0mtp\u001b[0m \u001b[1;33m=\u001b[0m \u001b[0mconfusion_matrix\u001b[0m\u001b[1;33m(\u001b[0m\u001b[0my_test\u001b[0m\u001b[1;33m,\u001b[0m\u001b[0my_pred\u001b[0m\u001b[1;33m)\u001b[0m\u001b[1;33m.\u001b[0m\u001b[0mravel\u001b[0m\u001b[1;33m(\u001b[0m\u001b[1;33m)\u001b[0m\u001b[1;33m\u001b[0m\u001b[1;33m\u001b[0m\u001b[0m\n\u001b[0m\u001b[0;32m      3\u001b[0m \u001b[0mprint\u001b[0m\u001b[1;33m(\u001b[0m\u001b[0mtp\u001b[0m\u001b[1;33m,\u001b[0m \u001b[0mfn\u001b[0m\u001b[1;33m)\u001b[0m\u001b[1;33m\u001b[0m\u001b[1;33m\u001b[0m\u001b[0m\n\u001b[0;32m      4\u001b[0m \u001b[0mprint\u001b[0m\u001b[1;33m(\u001b[0m\u001b[0mfp\u001b[0m\u001b[1;33m,\u001b[0m \u001b[0mtn\u001b[0m\u001b[1;33m)\u001b[0m\u001b[1;33m\u001b[0m\u001b[1;33m\u001b[0m\u001b[0m\n",
      "\u001b[1;31mNameError\u001b[0m: name 'y_pred' is not defined"
     ]
    }
   ],
   "source": [
    "from sklearn.metrics import classification_report, confusion_matrix\n",
    "tn, fp, fn, tp = confusion_matrix(y_test,y_pred).ravel()\n",
    "print(tp, fn)\n",
    "print(fp, tn)"
   ]
  },
  {
   "cell_type": "code",
   "execution_count": null,
   "metadata": {},
   "outputs": [],
   "source": []
  },
  {
   "cell_type": "code",
   "execution_count": 32,
   "metadata": {},
   "outputs": [
    {
     "name": "stdout",
     "output_type": "stream",
     "text": [
      "0.842901878914405\n",
      "1.0\n",
      "0.842901878914405\n"
     ]
    }
   ],
   "source": [
    "print(metrics.accuracy_score(y_test,y_perd))\n",
    "print(metrics.recall_score(y_test,y_perd))\n",
    "print(metrics.precision_score(y_test,y_perd))"
   ]
  },
  {
   "cell_type": "code",
   "execution_count": 33,
   "metadata": {},
   "outputs": [
    {
     "data": {
      "text/plain": [
       "0.5"
      ]
     },
     "execution_count": 33,
     "metadata": {},
     "output_type": "execute_result"
    }
   ],
   "source": [
    "auc=metrics.roc_auc_score(y_test,y_perd)\n",
    "auc"
   ]
  },
  {
   "cell_type": "code",
   "execution_count": 34,
   "metadata": {},
   "outputs": [],
   "source": [
    "from sklearn.tree import DecisionTreeClassifier\n",
    "\n",
    "from sklearn import tree\n",
    "\n",
    "from sklearn.model_selection import train_test_split\n",
    "from sklearn.metrics import classification_report"
   ]
  },
  {
   "cell_type": "code",
   "execution_count": 35,
   "metadata": {},
   "outputs": [],
   "source": [
    "dt = DecisionTreeClassifier()"
   ]
  },
  {
   "cell_type": "code",
   "execution_count": 36,
   "metadata": {},
   "outputs": [
    {
     "data": {
      "text/plain": [
       "0.7244258872651357"
      ]
     },
     "execution_count": 36,
     "metadata": {},
     "output_type": "execute_result"
    }
   ],
   "source": [
    "dt.fit(x_train,y_train)\n",
    "dt.score(x_test,y_test)"
   ]
  },
  {
   "cell_type": "code",
   "execution_count": 37,
   "metadata": {},
   "outputs": [
    {
     "data": {
      "text/plain": [
       "0.7630480167014614"
      ]
     },
     "execution_count": 37,
     "metadata": {},
     "output_type": "execute_result"
    }
   ],
   "source": [
    "dt4 = DecisionTreeClassifier(criterion=\"entropy\")\n",
    "dt4.fit(x_train,y_train)\n",
    "dt4.score(x_test,y_test)"
   ]
  },
  {
   "cell_type": "code",
   "execution_count": 38,
   "metadata": {},
   "outputs": [
    {
     "name": "stdout",
     "output_type": "stream",
     "text": [
      "Accuracy: 0.8392484342379958\n"
     ]
    }
   ],
   "source": [
    "from sklearn.ensemble import RandomForestClassifier\n",
    "clf=RandomForestClassifier(n_estimators=60)\n",
    "#Train the model using the training sets y_pred=clf.predict(X_test)\n",
    "clf.fit(x_train,y_train)\n",
    "y_pred=clf.predict(x_test)\n",
    "print(\"Accuracy:\",metrics.accuracy_score(y_test, y_pred))"
   ]
  },
  {
   "cell_type": "code",
   "execution_count": 39,
   "metadata": {},
   "outputs": [],
   "source": [
    "from sklearn.feature_selection import chi2\n",
    "# score_func of Annova\n",
    "from sklearn.feature_selection import f_regression\n",
    "# class that accepts the score_func parameters\n",
    "from sklearn.feature_selection import SelectKBest"
   ]
  },
  {
   "cell_type": "code",
   "execution_count": 40,
   "metadata": {},
   "outputs": [],
   "source": [
    "annova = SelectKBest(score_func=f_regression,k=12)\n"
   ]
  },
  {
   "cell_type": "code",
   "execution_count": 41,
   "metadata": {},
   "outputs": [
    {
     "data": {
      "text/plain": [
       "LogisticRegression(C=1.0, class_weight=None, dual=False, fit_intercept=True,\n",
       "                   intercept_scaling=1, l1_ratio=None, max_iter=100,\n",
       "                   multi_class='warn', n_jobs=None, penalty='l2',\n",
       "                   random_state=None, solver='warn', tol=0.0001, verbose=0,\n",
       "                   warm_start=False)"
      ]
     },
     "execution_count": 41,
     "metadata": {},
     "output_type": "execute_result"
    }
   ],
   "source": [
    "x_train_annova = annova.fit_transform(x_train,y_train)\n",
    "x_test_annova = annova.transform(x_test)\n",
    "#lin_annova = LinearRegression()\n",
    "logreg.fit(x_train_annova, y_train)"
   ]
  },
  {
   "cell_type": "code",
   "execution_count": 42,
   "metadata": {},
   "outputs": [
    {
     "data": {
      "text/plain": [
       "0.842901878914405"
      ]
     },
     "execution_count": 42,
     "metadata": {},
     "output_type": "execute_result"
    }
   ],
   "source": [
    "logreg.score(x_test_annova, y_test)"
   ]
  },
  {
   "cell_type": "code",
   "execution_count": 43,
   "metadata": {},
   "outputs": [
    {
     "data": {
      "text/plain": [
       "LogisticRegression(C=1.0, class_weight=None, dual=False, fit_intercept=True,\n",
       "                   intercept_scaling=1, l1_ratio=None, max_iter=100,\n",
       "                   multi_class='warn', n_jobs=None, penalty='l2',\n",
       "                   random_state=None, solver='warn', tol=0.0001, verbose=0,\n",
       "                   warm_start=False)"
      ]
     },
     "execution_count": 43,
     "metadata": {},
     "output_type": "execute_result"
    }
   ],
   "source": [
    "chi = SelectKBest(score_func=chi2,k=7)\n",
    "\n",
    "# this will throw an error as it works on non-negative values\n",
    "x_train_chi = chi.fit_transform(x_train,y_train)\n",
    "\n",
    "x_test_chi = chi.transform(x_test)\n",
    "#lin_chi = LinearRegression()\n",
    "logreg.fit(x_train_chi, y_train)"
   ]
  },
  {
   "cell_type": "code",
   "execution_count": 44,
   "metadata": {},
   "outputs": [
    {
     "data": {
      "text/plain": [
       "0.842901878914405"
      ]
     },
     "execution_count": 44,
     "metadata": {},
     "output_type": "execute_result"
    }
   ],
   "source": [
    "logreg.score(x_test_chi, y_test)"
   ]
  },
  {
   "cell_type": "code",
   "execution_count": 53,
   "metadata": {},
   "outputs": [
    {
     "ename": "ValueError",
     "evalue": "continuous-multioutput format is not supported",
     "output_type": "error",
     "traceback": [
      "\u001b[1;31m---------------------------------------------------------------------------\u001b[0m",
      "\u001b[1;31mValueError\u001b[0m                                Traceback (most recent call last)",
      "\u001b[1;32m<ipython-input-53-e24067f0b3a7>\u001b[0m in \u001b[0;36m<module>\u001b[1;34m\u001b[0m\n\u001b[1;32m----> 1\u001b[1;33m \u001b[0mauc\u001b[0m\u001b[1;33m=\u001b[0m\u001b[0mmetrics\u001b[0m\u001b[1;33m.\u001b[0m\u001b[0mroc_auc_score\u001b[0m\u001b[1;33m(\u001b[0m\u001b[0mx_test_chi\u001b[0m\u001b[1;33m,\u001b[0m \u001b[0my_test\u001b[0m\u001b[1;33m)\u001b[0m\u001b[1;33m\u001b[0m\u001b[1;33m\u001b[0m\u001b[0m\n\u001b[0m\u001b[0;32m      2\u001b[0m \u001b[0mauc\u001b[0m\u001b[1;33m\u001b[0m\u001b[1;33m\u001b[0m\u001b[0m\n",
      "\u001b[1;32m~\\Anaconda3\\lib\\site-packages\\sklearn\\metrics\\ranking.py\u001b[0m in \u001b[0;36mroc_auc_score\u001b[1;34m(y_true, y_score, average, sample_weight, max_fpr)\u001b[0m\n\u001b[0;32m    353\u001b[0m     return _average_binary_score(\n\u001b[0;32m    354\u001b[0m         \u001b[0m_binary_roc_auc_score\u001b[0m\u001b[1;33m,\u001b[0m \u001b[0my_true\u001b[0m\u001b[1;33m,\u001b[0m \u001b[0my_score\u001b[0m\u001b[1;33m,\u001b[0m \u001b[0maverage\u001b[0m\u001b[1;33m,\u001b[0m\u001b[1;33m\u001b[0m\u001b[1;33m\u001b[0m\u001b[0m\n\u001b[1;32m--> 355\u001b[1;33m         sample_weight=sample_weight)\n\u001b[0m\u001b[0;32m    356\u001b[0m \u001b[1;33m\u001b[0m\u001b[0m\n\u001b[0;32m    357\u001b[0m \u001b[1;33m\u001b[0m\u001b[0m\n",
      "\u001b[1;32m~\\Anaconda3\\lib\\site-packages\\sklearn\\metrics\\base.py\u001b[0m in \u001b[0;36m_average_binary_score\u001b[1;34m(binary_metric, y_true, y_score, average, sample_weight)\u001b[0m\n\u001b[0;32m     71\u001b[0m     \u001b[0my_type\u001b[0m \u001b[1;33m=\u001b[0m \u001b[0mtype_of_target\u001b[0m\u001b[1;33m(\u001b[0m\u001b[0my_true\u001b[0m\u001b[1;33m)\u001b[0m\u001b[1;33m\u001b[0m\u001b[1;33m\u001b[0m\u001b[0m\n\u001b[0;32m     72\u001b[0m     \u001b[1;32mif\u001b[0m \u001b[0my_type\u001b[0m \u001b[1;32mnot\u001b[0m \u001b[1;32min\u001b[0m \u001b[1;33m(\u001b[0m\u001b[1;34m\"binary\"\u001b[0m\u001b[1;33m,\u001b[0m \u001b[1;34m\"multilabel-indicator\"\u001b[0m\u001b[1;33m)\u001b[0m\u001b[1;33m:\u001b[0m\u001b[1;33m\u001b[0m\u001b[1;33m\u001b[0m\u001b[0m\n\u001b[1;32m---> 73\u001b[1;33m         \u001b[1;32mraise\u001b[0m \u001b[0mValueError\u001b[0m\u001b[1;33m(\u001b[0m\u001b[1;34m\"{0} format is not supported\"\u001b[0m\u001b[1;33m.\u001b[0m\u001b[0mformat\u001b[0m\u001b[1;33m(\u001b[0m\u001b[0my_type\u001b[0m\u001b[1;33m)\u001b[0m\u001b[1;33m)\u001b[0m\u001b[1;33m\u001b[0m\u001b[1;33m\u001b[0m\u001b[0m\n\u001b[0m\u001b[0;32m     74\u001b[0m \u001b[1;33m\u001b[0m\u001b[0m\n\u001b[0;32m     75\u001b[0m     \u001b[1;32mif\u001b[0m \u001b[0my_type\u001b[0m \u001b[1;33m==\u001b[0m \u001b[1;34m\"binary\"\u001b[0m\u001b[1;33m:\u001b[0m\u001b[1;33m\u001b[0m\u001b[1;33m\u001b[0m\u001b[0m\n",
      "\u001b[1;31mValueError\u001b[0m: continuous-multioutput format is not supported"
     ]
    }
   ],
   "source": [
    "auc=metrics.roc_auc_score(x_test_chi, y_test)\n",
    "auc"
   ]
  },
  {
   "cell_type": "code",
   "execution_count": 45,
   "metadata": {},
   "outputs": [],
   "source": [
    "from sklearn.decomposition import PCA \n",
    "\n",
    "pca = PCA(n_components = 2) \n",
    "\n",
    "x_train = pca.fit_transform(x_train) \n",
    "x_test = pca.transform(x_test) \n",
    "\n",
    "explained_variance = pca.explained_variance_ratio_"
   ]
  },
  {
   "cell_type": "code",
   "execution_count": 46,
   "metadata": {},
   "outputs": [
    {
     "data": {
      "text/plain": [
       "array([0.25919597, 0.16274611])"
      ]
     },
     "execution_count": 46,
     "metadata": {},
     "output_type": "execute_result"
    }
   ],
   "source": [
    "explained_variance"
   ]
  },
  {
   "cell_type": "code",
   "execution_count": 47,
   "metadata": {},
   "outputs": [
    {
     "data": {
      "text/plain": [
       "LogisticRegression(C=1.0, class_weight=None, dual=False, fit_intercept=True,\n",
       "                   intercept_scaling=1, l1_ratio=None, max_iter=100,\n",
       "                   multi_class='warn', n_jobs=None, penalty='l2',\n",
       "                   random_state=0, solver='warn', tol=0.0001, verbose=0,\n",
       "                   warm_start=False)"
      ]
     },
     "execution_count": 47,
     "metadata": {},
     "output_type": "execute_result"
    }
   ],
   "source": [
    "from sklearn.linear_model import LogisticRegression \n",
    "\n",
    "classifier = LogisticRegression(random_state = 0) \n",
    "classifier.fit(x_train, y_train)"
   ]
  },
  {
   "cell_type": "code",
   "execution_count": 48,
   "metadata": {},
   "outputs": [],
   "source": [
    "y_pred = classifier.predict(x_test)\n"
   ]
  },
  {
   "cell_type": "code",
   "execution_count": 49,
   "metadata": {},
   "outputs": [
    {
     "data": {
      "text/plain": [
       "0.842901878914405"
      ]
     },
     "execution_count": 49,
     "metadata": {},
     "output_type": "execute_result"
    }
   ],
   "source": [
    "from sklearn.metrics import accuracy_score, f1_score\n",
    "accuracy_score(y_test, y_pred)"
   ]
  },
  {
   "cell_type": "code",
   "execution_count": null,
   "metadata": {},
   "outputs": [],
   "source": []
  }
 ],
 "metadata": {
  "kernelspec": {
   "display_name": "Python 3",
   "language": "python",
   "name": "python3"
  },
  "language_info": {
   "codemirror_mode": {
    "name": "ipython",
    "version": 3
   },
   "file_extension": ".py",
   "mimetype": "text/x-python",
   "name": "python",
   "nbconvert_exporter": "python",
   "pygments_lexer": "ipython3",
   "version": "3.7.4"
  }
 },
 "nbformat": 4,
 "nbformat_minor": 2
}
