{
 "cells": [
  {
   "cell_type": "code",
   "execution_count": 3,
   "metadata": {},
   "outputs": [
    {
     "name": "stdout",
     "output_type": "stream",
     "text": [
      "15.39\n"
     ]
    }
   ],
   "source": [
    "inputs=[1.2,2.1,3.1]\n",
    "weight=[3.2,2.3,1.2]\n",
    "bias=3\n",
    "\n",
    "\n",
    "output=inputs[0]*weight[0]+inputs[1]*weight[1]+inputs[2]*weight[2]+bias\n",
    "print(output)"
   ]
  },
  {
   "cell_type": "code",
   "execution_count": 2,
   "metadata": {},
   "outputs": [
    {
     "name": "stdout",
     "output_type": "stream",
     "text": [
      "2.3\n"
     ]
    }
   ],
   "source": [
    "inputs=[1,2,3]\n",
    "weight=[0.2,0.8,-0.5]\n",
    "bias=2\n",
    "\n",
    "\n",
    "output=inputs[0]*weight[0]+inputs[1]*weight[1]+inputs[2]*weight[2]+bias\n",
    "print(output)"
   ]
  },
  {
   "cell_type": "code",
   "execution_count": 1,
   "metadata": {},
   "outputs": [
    {
     "name": "stdout",
     "output_type": "stream",
     "text": [
      "[ 3.5  9.2 10.7]\n"
     ]
    }
   ],
   "source": [
    "inputs=[1,2,3,4]\n",
    "\n",
    "weight=[[0.2,0.8,-0.5,0.3],\n",
    "         [0.3,0.5,0.5,0.6],\n",
    "         [0.4,0.9,0.7,0.1]]\n",
    "\n",
    "bais=[2,4,6]\n",
    "import numpy as np\n",
    "output=np.dot(weight,inputs)+bais\n",
    "print(output)"
   ]
  },
  {
   "cell_type": "code",
   "execution_count": 4,
   "metadata": {},
   "outputs": [
    {
     "name": "stdout",
     "output_type": "stream",
     "text": [
      "[[3.05 7.3  9.55]\n",
      " [7.5  6.8  9.8 ]\n",
      " [1.85 5.98 9.05]]\n"
     ]
    }
   ],
   "source": [
    "inputs=[[1.0,2.0,3.0,2.5],\n",
    "       [2.0,5.0,-1.0,2.0],\n",
    "       [-1.5,2.2,3.7,0.8]]\n",
    "\n",
    "weight=[[0.2,0.8,-0.5,0.3],\n",
    "         [0.3,0.5,0.5,0.6],\n",
    "         [0.4,0.9,0.7,0.1]]\n",
    "\n",
    "bais=[2.0,3.0,5.0]\n",
    "import numpy as np\n",
    "output=np.dot(inputs,np.array(weight).T)+bais\n",
    "print(output)"
   ]
  },
  {
   "cell_type": "code",
   "execution_count": 5,
   "metadata": {},
   "outputs": [
    {
     "name": "stdout",
     "output_type": "stream",
     "text": [
      "[[ 3.058   5.4175  2.2455]\n",
      " [ 3.698   4.55   -0.11  ]\n",
      " [ 2.8728  5.3341  1.8749]]\n"
     ]
    }
   ],
   "source": [
    "inputs=[[1.0,2.0,3.0,2.5],\n",
    "       [2.0,5.0,-1.0,2.0],\n",
    "       [-1.5,2.2,3.7,0.8]]\n",
    "\n",
    "weight=[[0.2,0.8,-0.5,0.3],\n",
    "         [0.3,0.5,0.5,0.6],\n",
    "         [0.4,0.9,0.7,0.1]]\n",
    "\n",
    "bais=[2.0,3.0,5.0]\n",
    "\n",
    "weight2=[[0.1,-0.14,0.5],\n",
    "        [-0.2,0.12,0.33],\n",
    "        [-0.44,0.73,-0.13]]\n",
    "\n",
    "bais2=[-1.0,2.0,-0.5]\n",
    "\n",
    "layer1_output=np.dot(inputs,np.array(weight).T)+bais\n",
    "layer2_output=np.dot(layer1_output,np.array(weight2).T)+bais2\n",
    "print(layer2_output)"
   ]
  },
  {
   "cell_type": "code",
   "execution_count": 6,
   "metadata": {},
   "outputs": [],
   "source": [
    "np.random.seed(0)"
   ]
  },
  {
   "cell_type": "code",
   "execution_count": 10,
   "metadata": {},
   "outputs": [
    {
     "name": "stdout",
     "output_type": "stream",
     "text": [
      "[[-0.35402716 -0.25986081 -0.09275251 -0.64047221 -0.19265323]\n",
      " [-0.25353471 -0.93578807  0.15906603 -0.42559505 -0.27803059]\n",
      " [-0.23614948  0.08586301  0.26218826 -1.13525351 -0.00980175]]\n"
     ]
    }
   ],
   "source": [
    "X=[[1.0,2.0,3.0,2.5],\n",
    "       [2.0,5.0,-1.0,2.0],\n",
    "       [-1.5,2.2,3.7,0.8]]\n",
    "\n",
    "class dense_layer:\n",
    "    def __init__(self,n_inputs,n_neurons):\n",
    "        self.weight=0.10*np.random.randn(n_inputs,n_neurons)\n",
    "        self.biases=np.zeros((1,n_neurons))\n",
    "    def forward(self,inputs):\n",
    "        self.out=np.dot(inputs,self.weight)+self.biases\n",
    "        \n",
    "layer1=dense_layer(4,5)\n",
    "layer2=dense_layer(5,2)\n",
    "layer1.forward(X)\n",
    "print(layer1.out)\n"
   ]
  },
  {
   "cell_type": "code",
   "execution_count": 11,
   "metadata": {},
   "outputs": [
    {
     "name": "stdout",
     "output_type": "stream",
     "text": [
      "[[ 0.16518081  0.03067444]\n",
      " [ 0.19057082  0.14312839]\n",
      " [ 0.19950826 -0.06945421]]\n"
     ]
    }
   ],
   "source": [
    "layer2.forward(layer1.out)\n",
    "print(layer2.out)"
   ]
  },
  {
   "cell_type": "code",
   "execution_count": null,
   "metadata": {},
   "outputs": [],
   "source": []
  }
 ],
 "metadata": {
  "kernelspec": {
   "display_name": "Python 3",
   "language": "python",
   "name": "python3"
  },
  "language_info": {
   "codemirror_mode": {
    "name": "ipython",
    "version": 3
   },
   "file_extension": ".py",
   "mimetype": "text/x-python",
   "name": "python",
   "nbconvert_exporter": "python",
   "pygments_lexer": "ipython3",
   "version": "3.7.4"
  }
 },
 "nbformat": 4,
 "nbformat_minor": 2
}
